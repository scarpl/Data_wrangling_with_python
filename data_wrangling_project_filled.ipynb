{
 "cells": [
  {
   "cell_type": "markdown",
   "metadata": {
    "id": "GNIwe5N7s0e_"
   },
   "source": [
    "# Real-world Data Wrangling"
   ]
  },
  {
   "cell_type": "markdown",
   "metadata": {
    "id": "_BG63Tpg8ep_"
   },
   "source": [
    "In this project, you will apply the skills you acquired in the course to gather and wrangle real-world data with two datasets of your choice.\n",
    "\n",
    "You will retrieve and extract the data, assess the data programmatically and visually, accross elements of data quality and structure, and implement a cleaning strategy for the data. You will then store the updated data into your selected database/data store, combine the data, and answer a research question with the datasets.\n",
    "\n",
    "Throughout the process, you are expected to:\n",
    "\n",
    "1. Explain your decisions towards methods used for gathering, assessing, cleaning, storing, and answering the research question\n",
    "2. Write code comments so your code is more readable"
   ]
  },
  {
   "cell_type": "markdown",
   "metadata": {
    "id": "lDYDkH-Zs7Nn"
   },
   "source": [
    "## 1. Gather data\n",
    "\n",
    "In this section, you will extract data using two different data gathering methods and combine the data. Use at least two different types of data-gathering methods."
   ]
  },
  {
   "cell_type": "markdown",
   "metadata": {
    "id": "LbN7z7rcuqpO"
   },
   "source": [
    "### **1.1. Problem Statement**\n",
    "\n",
    "Air pollution is one of the most critical environmental issues worldwide, impacting human health and quality of life. \n",
    "In this project, I aim to explore the relationship between weather conditions (temperature, humidity, wind speed) and air pollution levels (PM2.5, NO₂, O₃) in Rome, Italy. \n",
    "The goal is to assess whether certain meteorological factors correlate with variations in pollutant concentrations.\n",
    "\n",
    "To conduct this analysis, I will gather daily weather data from the OpenWeather API and air quality data from the European Environment Agency (EEA) open data portal. \n",
    "These datasets will be merged on date and city for combined analysis.\n"
   ]
  },
  {
   "cell_type": "markdown",
   "metadata": {
    "id": "8AQfBAdUypMm"
   },
   "source": [
    "### **1.2.** Gather at least two datasets using two different data gathering methods\n",
    "\n",
    "List of data gathering methods:\n",
    "\n",
    "- Download data manually\n",
    "- Programmatically downloading files\n",
    "- Gather data by accessing APIs\n",
    "- Gather and extract data from HTML files using BeautifulSoup\n",
    "- Extract data from a SQL database\n",
    "\n",
    "Each dataset must have at least two variables, and have greater than 500 data samples within each dataset.\n",
    "\n",
    "For each dataset, briefly describe why you picked the dataset and the gathering method (2-3 full sentences), including the names and significance of the variables in the dataset. Show your work (e.g., if using an API to download the data, please include a snippet of your code). \n",
    "\n",
    "Load the dataset programmtically into this notebook."
   ]
  },
  {
   "cell_type": "markdown",
   "metadata": {
    "id": "7e6gS0wL1KTu"
   },
   "source": [
    "#### **Dataset 1**\n",
    "\n",
    "- **Type**: JSON (API response)  \n",
    "- **Source**: [Open-Meteo Archive API (ERA5)](https://open-meteo.com)  \n",
    "- **Method**: Programmatically gathered via HTTP request using the `requests` library.  \n",
    "- **Variables**:  \n",
    "  * `date` — date of observation (UTC)  \n",
    "  * `temp_c` — daily average temperature in Celsius  \n",
    "  * `rhum_pct` — daily average relative humidity (%)  \n",
    "  * `wind_speed_ms` — daily average wind speed (m/s)  \n",
    "  * `precip_mm` — daily total precipitation (mm)  \n"
   ]
  },
  {
   "cell_type": "code",
   "execution_count": 32,
   "metadata": {},
   "outputs": [
    {
     "name": "stdout",
     "output_type": "stream",
     "text": [
      "         date    temp_c   rhum_pct  wind_speed_ms  precip_mm\n",
      "0  2022-01-01  7.958333  90.708333       4.916667        0.0\n",
      "1  2022-01-02  7.725000  92.000000       5.516667        0.0\n",
      "2  2022-01-03  8.741667  89.208333       5.200000        0.5\n",
      "            date    temp_c   rhum_pct  wind_speed_ms  precip_mm\n",
      "1093  2024-12-29  5.608333  82.875000       4.070833        0.0\n",
      "1094  2024-12-30  5.933333  82.583333       3.741667        0.0\n",
      "1095  2024-12-31  5.483333  88.583333       4.691667        0.0\n"
     ]
    }
   ],
   "source": [
    "from modules.openmeteo_weather import build_weather_daily\n",
    "\n",
    "weather_df_daily = build_weather_daily(\n",
    "    lat=41.9028,\n",
    "    lon=12.4964,\n",
    "    start=\"2022-01-01\",\n",
    "    end=\"2024-12-31\",\n",
    "    timezone=\"Europe/Rome\"\n",
    ")\n",
    "\n",
    "print(weather_df_daily.head(3))\n",
    "print(weather_df_daily.tail(3))\n"
   ]
  },
  {
   "cell_type": "markdown",
   "metadata": {
    "id": "hoUjq1tPzz7P"
   },
   "source": [
    "#### **Dataset 2**\n",
    "\n",
    "- **Type**: CSV file\n",
    "- **Source**: [OpenAQ API v3](https://api.openaq.org/)  \n",
    "- **Variables**:  \n",
    "  * `date` — date of observation (UTC)  \n",
    "  * `pm25` — daily average PM₂.₅ concentration (µg/m³)  \n",
    "  * `no2` — daily average NO₂ concentration (µg/m³)  \n"
   ]
  },
  {
   "cell_type": "code",
   "execution_count": 33,
   "metadata": {},
   "outputs": [
    {
     "name": "stdout",
     "output_type": "stream",
     "text": [
      "         date  city  pm25_rome  no2_rome\n",
      "0  2022-01-01  Rome        NaN     43.50\n",
      "1  2022-01-02  Rome        NaN     51.85\n",
      "2  2022-01-03  Rome        NaN     32.15\n",
      "            date  city  pm25_rome  no2_rome\n",
      "1039  2024-12-28  Rome       19.0      53.7\n",
      "1040  2024-12-29  Rome       48.0      59.2\n",
      "1041  2024-12-30  Rome       50.0      57.1\n"
     ]
    }
   ],
   "source": [
    "from modules.openaq_loader import OpenAQClient, load_and_aggregate_from_openaq\n",
    "import pandas as pd\n",
    "\n",
    "# Import the air quality data into a DataFrame\n",
    "aq_daily_2022= pd.read_csv(\"data/raw/air_quality_rome_2022.csv\")\n",
    "aq_daily_2023 = pd.read_csv(\"data/raw/air_quality_rome_2023.csv\")\n",
    "aq_daily_2024 = pd.read_csv(\"data/raw/air_quality_rome_2024.csv\")\n",
    "\n",
    "aq_daily= pd.concat([aq_daily_2022, aq_daily_2023, aq_daily_2024], ignore_index=True)\n",
    "\n",
    "print(aq_daily.head(3))\n",
    "print(aq_daily.tail(3))"
   ]
  },
  {
   "cell_type": "markdown",
   "metadata": {},
   "source": [
    "Optional data storing step: You may save your raw dataset files to the local data store before moving to the next step."
   ]
  },
  {
   "cell_type": "markdown",
   "metadata": {},
   "source": [
    "#### **Relationship between Dataset 1 and Dataset 2**\n",
    "\n",
    "Both datasets refer to environmental conditions in Rome during 2024.  \n",
    "Dataset 1 contains daily weather variables (temperature, humidity, wind speed, and precipitation) from the Open-Meteo ERA5 reanalysis, while Dataset 2 contains daily air quality measurements (PM₂.₅ and NO₂) from OpenAQ.  \n",
    "They share a common `date` field, which allows the datasets to be merged for exploratory analysis of the relationship between meteorological conditions and air pollution levels."
   ]
  },
  {
   "cell_type": "markdown",
   "metadata": {},
   "source": [
    "## 2. Assess data\n",
    "\n",
    "Assess the data according to data quality and tidiness metrics using the report below.\n",
    "\n",
    "List **two** data quality issues and **two** tidiness issues. Assess each data issue visually **and** programmatically, then briefly describe the issue you find.  **Make sure you include justifications for the methods you use for the assessment.**"
   ]
  },
  {
   "cell_type": "code",
   "execution_count": 34,
   "metadata": {},
   "outputs": [],
   "source": [
    "# Declaring function used to assess the datasets\n",
    "def assess_dataset(df, name):\n",
    "    print(f\"\\n--- {name} ---\")\n",
    "    print(df.info())\n",
    "    print(\"Shape:\", df.shape)\n",
    "    print(\"\\nData types:\")\n",
    "    print(df.dtypes)\n",
    "    print(\"\\nMissing values per column:\")\n",
    "    print(df.isna().sum())\n",
    "    print(\"\\nDuplicate rows:\", df.duplicated().sum())\n",
    "    print(\"\\nSummary statistics:\")\n",
    "    print(df.describe(include=\"all\"))\n",
    "\n",
    "# function to assess duplicated dates\n",
    "def assess_duplicates(df):\n",
    "    duplicates_mask = df['date'].duplicated(keep=False)  # keep=False marks all duplicates\n",
    "    num_duplicates = df[\"date\"].duplicated().sum()\n",
    "    \n",
    "    if num_duplicates > 0:\n",
    "        print(f\"There are {num_duplicates} duplicated dates.\")\n",
    "    else:\n",
    "        print(\"No duplicated dates found.\")"
   ]
  },
  {
   "cell_type": "markdown",
   "metadata": {},
   "source": [
    "### Dataset 1 – Data Quality Issue"
   ]
  },
  {
   "cell_type": "markdown",
   "metadata": {},
   "source": [
    "1. Data types are correct except for the `date` column, which is stored as `object` instead of `datetime.date`.\n",
    "2. Outliers in `precip_mm` (unusually high daily precipitation values that may be due to measurement or aggregation errors)."
   ]
  },
  {
   "cell_type": "code",
   "execution_count": 35,
   "metadata": {},
   "outputs": [
    {
     "name": "stdout",
     "output_type": "stream",
     "text": [
      "\n",
      "--- Weather Data (Dataset 1) ---\n",
      "<class 'pandas.core.frame.DataFrame'>\n",
      "RangeIndex: 1096 entries, 0 to 1095\n",
      "Data columns (total 5 columns):\n",
      " #   Column         Non-Null Count  Dtype  \n",
      "---  ------         --------------  -----  \n",
      " 0   date           1096 non-null   object \n",
      " 1   temp_c         1096 non-null   float64\n",
      " 2   rhum_pct       1096 non-null   float64\n",
      " 3   wind_speed_ms  1096 non-null   float64\n",
      " 4   precip_mm      1096 non-null   float64\n",
      "dtypes: float64(4), object(1)\n",
      "memory usage: 42.9+ KB\n",
      "None\n",
      "Shape: (1096, 5)\n",
      "\n",
      "Data types:\n",
      "date              object\n",
      "temp_c           float64\n",
      "rhum_pct         float64\n",
      "wind_speed_ms    float64\n",
      "precip_mm        float64\n",
      "dtype: object\n",
      "\n",
      "Missing values per column:\n",
      "date             0\n",
      "temp_c           0\n",
      "rhum_pct         0\n",
      "wind_speed_ms    0\n",
      "precip_mm        0\n",
      "dtype: int64\n",
      "\n",
      "Duplicate rows: 0\n",
      "\n",
      "Summary statistics:\n",
      "              date       temp_c     rhum_pct  wind_speed_ms    precip_mm\n",
      "count         1096  1096.000000  1096.000000    1096.000000  1096.000000\n",
      "unique        1096          NaN          NaN            NaN          NaN\n",
      "top     2022-01-01          NaN          NaN            NaN          NaN\n",
      "freq             1          NaN          NaN            NaN          NaN\n",
      "mean           NaN    16.767172    71.654539       8.736493     2.511040\n",
      "std            NaN     7.382743    11.705323       3.809586     6.494669\n",
      "min            NaN     2.737500    36.958333       3.479167     0.000000\n",
      "25%            NaN    10.515625    63.666667       6.220833     0.000000\n",
      "50%            NaN    16.231250    74.125000       7.593750     0.000000\n",
      "75%            NaN    23.137500    81.135417       9.830208     1.325000\n",
      "max            NaN    31.341667    94.541667      25.808333    60.000000\n",
      "No duplicated dates found.\n"
     ]
    }
   ],
   "source": [
    "# Assess Dataset 1 (Weather)\n",
    "assess_dataset(weather_df_daily, \"Weather Data (Dataset 1)\")\n",
    "assess_duplicates(weather_df_daily)"
   ]
  },
  {
   "cell_type": "code",
   "execution_count": 36,
   "metadata": {},
   "outputs": [
    {
     "name": "stderr",
     "output_type": "stream",
     "text": [
      "/var/folders/sn/xrsxvpkj4bx6b_6m3_7zbjz80000gn/T/ipykernel_40837/1396895413.py:6: MatplotlibDeprecationWarning: The 'labels' parameter of boxplot() has been renamed 'tick_labels' since Matplotlib 3.9; support for the old name will be dropped in 3.11.\n",
      "  plt.boxplot([weather_df_daily[c] for c in cols], labels=cols)\n"
     ]
    },
    {
     "data": {
      "image/png": "[encoded data removed]",
      "text/plain": [
       "<Figure size 1000x600 with 1 Axes>"
      ]
     },
     "metadata": {},
     "output_type": "display_data"
    }
   ],
   "source": [
    "import matplotlib.pyplot as plt\n",
    "\n",
    "cols = [\"rhum_pct\", \"temp_c\", \"precip_mm\", \"wind_speed_ms\"]\n",
    "\n",
    "plt.figure(figsize=(10, 6))\n",
    "plt.boxplot([weather_df_daily[c] for c in cols], labels=cols)\n",
    "plt.title(\"Boxplot - Weather Data\")\n",
    "plt.ylabel(\"Value\")\n",
    "plt.grid(axis='y', linestyle='--', alpha=0.7)\n",
    "plt.show()"
   ]
  },
  {
   "cell_type": "markdown",
   "metadata": {},
   "source": [
    "**Justification: **\n",
    "#### Outliers in Precipitation Data\n",
    "The boxplot for `precip_mm` shows several high-value outliers.  \n",
    "These are likely caused by **extreme weather events** such as thunderstorms or heavy rain episodes, which naturally produce daily precipitation amounts significantly above the median.  \n",
    "\n",
    "Unlike measurement errors, these extreme values are **expected in meteorological data** and are important to retain for analysis, since they provide insight into unusual but real climatic conditions.  \n",
    "For this reason, no outlier removal will be applied to precipitation data.\n",
    "\n",
    "#### Outliers in Wind Speed Data\n",
    "\n",
    "The boxplot for `wind_speed_ms` shows some high-value outliers.  \n",
    "These are likely the result of **strong wind events** such as storms or intense gusts, which can cause daily average wind speeds to spike above typical levels.  \n",
    "\n",
    "In meteorological datasets, such peaks are **real and meaningful phenomena**, not measurement errors, and can be crucial for understanding weather extremes.  \n",
    "Therefore, outliers in wind speed will be retained in the dataset."
   ]
  },
  {
   "cell_type": "markdown",
   "metadata": {},
   "source": [
    "### Dataset 2 – Data Quality Issue"
   ]
  },
  {
   "cell_type": "markdown",
   "metadata": {},
   "source": [
    "1. Missing values in `pm25` and `no2` for certain dates.\n",
    "2. The `date` column is stored as `object` instead of `datetime.date`.\n",
    "3. Potential anomalies in pollutant concentrations (very high spikes likely due to sensor errors)."
   ]
  },
  {
   "cell_type": "code",
   "execution_count": 37,
   "metadata": {},
   "outputs": [
    {
     "name": "stdout",
     "output_type": "stream",
     "text": [
      "\n",
      "--- Air Quality Data (Dataset 2) ---\n",
      "<class 'pandas.core.frame.DataFrame'>\n",
      "RangeIndex: 1042 entries, 0 to 1041\n",
      "Data columns (total 4 columns):\n",
      " #   Column     Non-Null Count  Dtype  \n",
      "---  ------     --------------  -----  \n",
      " 0   date       1042 non-null   object \n",
      " 1   city       1042 non-null   object \n",
      " 2   pm25_rome  754 non-null    float64\n",
      " 3   no2_rome   1038 non-null   float64\n",
      "dtypes: float64(2), object(2)\n",
      "memory usage: 32.7+ KB\n",
      "None\n",
      "Shape: (1042, 4)\n",
      "\n",
      "Data types:\n",
      "date          object\n",
      "city          object\n",
      "pm25_rome    float64\n",
      "no2_rome     float64\n",
      "dtype: object\n",
      "\n",
      "Missing values per column:\n",
      "date           0\n",
      "city           0\n",
      "pm25_rome    288\n",
      "no2_rome       4\n",
      "dtype: int64\n",
      "\n",
      "Duplicate rows: 0\n",
      "\n",
      "Summary statistics:\n",
      "              date  city   pm25_rome     no2_rome\n",
      "count         1042  1042  754.000000  1038.000000\n",
      "unique        1042     1         NaN          NaN\n",
      "top     2022-01-01  Rome         NaN          NaN\n",
      "freq             1  1042         NaN          NaN\n",
      "mean           NaN   NaN   13.123342    34.319128\n",
      "std            NaN   NaN    7.003073    12.824069\n",
      "min            NaN   NaN    1.000000     6.520000\n",
      "25%            NaN   NaN    8.500000    24.512500\n",
      "50%            NaN   NaN   11.500000    32.100000\n",
      "75%            NaN   NaN   16.000000    43.287500\n",
      "max            NaN   NaN   50.000000    81.000000\n",
      "No duplicated dates found.\n"
     ]
    }
   ],
   "source": [
    "# Assess Dataset 2 (Air Quality)\n",
    "assess_dataset(aq_daily, \"Air Quality Data (Dataset 2)\")\n",
    "assess_duplicates(aq_daily)"
   ]
  },
  {
   "cell_type": "markdown",
   "metadata": {},
   "source": [
    "**Justification:**\n",
    "\n",
    "There are not missing values for no2 while only few for pm25. Therefore the NaNs columns can be used to drop data of that day of the year without significant impact for the overall analysis."
   ]
  },
  {
   "cell_type": "markdown",
   "metadata": {},
   "source": [
    "### Dataset 1 – Data Tidiness Issue"
   ]
  },
  {
   "cell_type": "markdown",
   "metadata": {},
   "source": [
    "1. No structural tidiness problems detected – each variable is in its own column, each row is a unique date."
   ]
  },
  {
   "cell_type": "code",
   "execution_count": 38,
   "metadata": {},
   "outputs": [
    {
     "data": {
      "text/html": [
       "<div>\n",
       "<style scoped>\n",
       "    .dataframe tbody tr th:only-of-type {\n",
       "        vertical-align: middle;\n",
       "    }\n",
       "\n",
       "    .dataframe tbody tr th {\n",
       "        vertical-align: top;\n",
       "    }\n",
       "\n",
       "    .dataframe thead th {\n",
       "        text-align: right;\n",
       "    }\n",
       "</style>\n",
       "<table border=\"1\" class=\"dataframe\">\n",
       "  <thead>\n",
       "    <tr style=\"text-align: right;\">\n",
       "      <th></th>\n",
       "      <th>date</th>\n",
       "      <th>temp_c</th>\n",
       "      <th>rhum_pct</th>\n",
       "      <th>wind_speed_ms</th>\n",
       "      <th>precip_mm</th>\n",
       "    </tr>\n",
       "  </thead>\n",
       "  <tbody>\n",
       "    <tr>\n",
       "      <th>1086</th>\n",
       "      <td>2024-12-22</td>\n",
       "      <td>5.641667</td>\n",
       "      <td>83.291667</td>\n",
       "      <td>9.616667</td>\n",
       "      <td>4.0</td>\n",
       "    </tr>\n",
       "    <tr>\n",
       "      <th>1087</th>\n",
       "      <td>2024-12-23</td>\n",
       "      <td>7.308333</td>\n",
       "      <td>67.583333</td>\n",
       "      <td>21.891667</td>\n",
       "      <td>5.8</td>\n",
       "    </tr>\n",
       "    <tr>\n",
       "      <th>1088</th>\n",
       "      <td>2024-12-24</td>\n",
       "      <td>7.112500</td>\n",
       "      <td>54.833333</td>\n",
       "      <td>23.300000</td>\n",
       "      <td>0.0</td>\n",
       "    </tr>\n",
       "    <tr>\n",
       "      <th>1089</th>\n",
       "      <td>2024-12-25</td>\n",
       "      <td>7.725000</td>\n",
       "      <td>64.750000</td>\n",
       "      <td>18.391667</td>\n",
       "      <td>0.0</td>\n",
       "    </tr>\n",
       "    <tr>\n",
       "      <th>1090</th>\n",
       "      <td>2024-12-26</td>\n",
       "      <td>8.650000</td>\n",
       "      <td>68.875000</td>\n",
       "      <td>18.208333</td>\n",
       "      <td>0.0</td>\n",
       "    </tr>\n",
       "    <tr>\n",
       "      <th>1091</th>\n",
       "      <td>2024-12-27</td>\n",
       "      <td>6.275000</td>\n",
       "      <td>82.166667</td>\n",
       "      <td>7.100000</td>\n",
       "      <td>0.0</td>\n",
       "    </tr>\n",
       "    <tr>\n",
       "      <th>1092</th>\n",
       "      <td>2024-12-28</td>\n",
       "      <td>5.604167</td>\n",
       "      <td>83.833333</td>\n",
       "      <td>4.362500</td>\n",
       "      <td>0.0</td>\n",
       "    </tr>\n",
       "    <tr>\n",
       "      <th>1093</th>\n",
       "      <td>2024-12-29</td>\n",
       "      <td>5.608333</td>\n",
       "      <td>82.875000</td>\n",
       "      <td>4.070833</td>\n",
       "      <td>0.0</td>\n",
       "    </tr>\n",
       "    <tr>\n",
       "      <th>1094</th>\n",
       "      <td>2024-12-30</td>\n",
       "      <td>5.933333</td>\n",
       "      <td>82.583333</td>\n",
       "      <td>3.741667</td>\n",
       "      <td>0.0</td>\n",
       "    </tr>\n",
       "    <tr>\n",
       "      <th>1095</th>\n",
       "      <td>2024-12-31</td>\n",
       "      <td>5.483333</td>\n",
       "      <td>88.583333</td>\n",
       "      <td>4.691667</td>\n",
       "      <td>0.0</td>\n",
       "    </tr>\n",
       "  </tbody>\n",
       "</table>\n",
       "</div>"
      ],
      "text/plain": [
       "            date    temp_c   rhum_pct  wind_speed_ms  precip_mm\n",
       "1086  2024-12-22  5.641667  83.291667       9.616667        4.0\n",
       "1087  2024-12-23  7.308333  67.583333      21.891667        5.8\n",
       "1088  2024-12-24  7.112500  54.833333      23.300000        0.0\n",
       "1089  2024-12-25  7.725000  64.750000      18.391667        0.0\n",
       "1090  2024-12-26  8.650000  68.875000      18.208333        0.0\n",
       "1091  2024-12-27  6.275000  82.166667       7.100000        0.0\n",
       "1092  2024-12-28  5.604167  83.833333       4.362500        0.0\n",
       "1093  2024-12-29  5.608333  82.875000       4.070833        0.0\n",
       "1094  2024-12-30  5.933333  82.583333       3.741667        0.0\n",
       "1095  2024-12-31  5.483333  88.583333       4.691667        0.0"
      ]
     },
     "execution_count": 38,
     "metadata": {},
     "output_type": "execute_result"
    }
   ],
   "source": [
    "weather_df_daily.head(10)\n",
    "weather_df_daily.tail(10)"
   ]
  },
  {
   "cell_type": "code",
   "execution_count": 39,
   "metadata": {},
   "outputs": [
    {
     "data": {
      "text/html": [
       "<div>\n",
       "<style scoped>\n",
       "    .dataframe tbody tr th:only-of-type {\n",
       "        vertical-align: middle;\n",
       "    }\n",
       "\n",
       "    .dataframe tbody tr th {\n",
       "        vertical-align: top;\n",
       "    }\n",
       "\n",
       "    .dataframe thead th {\n",
       "        text-align: right;\n",
       "    }\n",
       "</style>\n",
       "<table border=\"1\" class=\"dataframe\">\n",
       "  <thead>\n",
       "    <tr style=\"text-align: right;\">\n",
       "      <th></th>\n",
       "      <th>date</th>\n",
       "      <th>temp_c</th>\n",
       "      <th>rhum_pct</th>\n",
       "      <th>wind_speed_ms</th>\n",
       "      <th>precip_mm</th>\n",
       "    </tr>\n",
       "  </thead>\n",
       "  <tbody>\n",
       "    <tr>\n",
       "      <th>count</th>\n",
       "      <td>1096</td>\n",
       "      <td>1096.000000</td>\n",
       "      <td>1096.000000</td>\n",
       "      <td>1096.000000</td>\n",
       "      <td>1096.000000</td>\n",
       "    </tr>\n",
       "    <tr>\n",
       "      <th>unique</th>\n",
       "      <td>1096</td>\n",
       "      <td>NaN</td>\n",
       "      <td>NaN</td>\n",
       "      <td>NaN</td>\n",
       "      <td>NaN</td>\n",
       "    </tr>\n",
       "    <tr>\n",
       "      <th>top</th>\n",
       "      <td>2022-01-01</td>\n",
       "      <td>NaN</td>\n",
       "      <td>NaN</td>\n",
       "      <td>NaN</td>\n",
       "      <td>NaN</td>\n",
       "    </tr>\n",
       "    <tr>\n",
       "      <th>freq</th>\n",
       "      <td>1</td>\n",
       "      <td>NaN</td>\n",
       "      <td>NaN</td>\n",
       "      <td>NaN</td>\n",
       "      <td>NaN</td>\n",
       "    </tr>\n",
       "    <tr>\n",
       "      <th>mean</th>\n",
       "      <td>NaN</td>\n",
       "      <td>16.767172</td>\n",
       "      <td>71.654539</td>\n",
       "      <td>8.736493</td>\n",
       "      <td>2.511040</td>\n",
       "    </tr>\n",
       "    <tr>\n",
       "      <th>std</th>\n",
       "      <td>NaN</td>\n",
       "      <td>7.382743</td>\n",
       "      <td>11.705323</td>\n",
       "      <td>3.809586</td>\n",
       "      <td>6.494669</td>\n",
       "    </tr>\n",
       "    <tr>\n",
       "      <th>min</th>\n",
       "      <td>NaN</td>\n",
       "      <td>2.737500</td>\n",
       "      <td>36.958333</td>\n",
       "      <td>3.479167</td>\n",
       "      <td>0.000000</td>\n",
       "    </tr>\n",
       "    <tr>\n",
       "      <th>25%</th>\n",
       "      <td>NaN</td>\n",
       "      <td>10.515625</td>\n",
       "      <td>63.666667</td>\n",
       "      <td>6.220833</td>\n",
       "      <td>0.000000</td>\n",
       "    </tr>\n",
       "    <tr>\n",
       "      <th>50%</th>\n",
       "      <td>NaN</td>\n",
       "      <td>16.231250</td>\n",
       "      <td>74.125000</td>\n",
       "      <td>7.593750</td>\n",
       "      <td>0.000000</td>\n",
       "    </tr>\n",
       "    <tr>\n",
       "      <th>75%</th>\n",
       "      <td>NaN</td>\n",
       "      <td>23.137500</td>\n",
       "      <td>81.135417</td>\n",
       "      <td>9.830208</td>\n",
       "      <td>1.325000</td>\n",
       "    </tr>\n",
       "    <tr>\n",
       "      <th>max</th>\n",
       "      <td>NaN</td>\n",
       "      <td>31.341667</td>\n",
       "      <td>94.541667</td>\n",
       "      <td>25.808333</td>\n",
       "      <td>60.000000</td>\n",
       "    </tr>\n",
       "  </tbody>\n",
       "</table>\n",
       "</div>"
      ],
      "text/plain": [
       "              date       temp_c     rhum_pct  wind_speed_ms    precip_mm\n",
       "count         1096  1096.000000  1096.000000    1096.000000  1096.000000\n",
       "unique        1096          NaN          NaN            NaN          NaN\n",
       "top     2022-01-01          NaN          NaN            NaN          NaN\n",
       "freq             1          NaN          NaN            NaN          NaN\n",
       "mean           NaN    16.767172    71.654539       8.736493     2.511040\n",
       "std            NaN     7.382743    11.705323       3.809586     6.494669\n",
       "min            NaN     2.737500    36.958333       3.479167     0.000000\n",
       "25%            NaN    10.515625    63.666667       6.220833     0.000000\n",
       "50%            NaN    16.231250    74.125000       7.593750     0.000000\n",
       "75%            NaN    23.137500    81.135417       9.830208     1.325000\n",
       "max            NaN    31.341667    94.541667      25.808333    60.000000"
      ]
     },
     "execution_count": 39,
     "metadata": {},
     "output_type": "execute_result"
    }
   ],
   "source": [
    "weather_df_daily.describe(include=\"all\")"
   ]
  },
  {
   "cell_type": "markdown",
   "metadata": {},
   "source": [
    "**Justification**:\n",
    "N/A"
   ]
  },
  {
   "cell_type": "markdown",
   "metadata": {},
   "source": [
    "### Dataset 2 – Data Tidiness Issue"
   ]
  },
  {
   "cell_type": "markdown",
   "metadata": {},
   "source": [
    "In the air quality dataset, the columns `pm25_rome` and `no2_rome` combine two different pieces of information:  \n",
    "1. The **type of pollutant** (PM2.5 or NO₂)  \n",
    "2. The **location** (\"Rome\")  \n",
    "\n",
    "This violates the **tidy data principle** that each variable should have its own column.  \n",
    "\n",
    "In the current \"wide format\", each pollutant is stored in a separate column, while a tidy format would have:\n",
    "- One column for the pollutant type (`pollutant`)\n",
    "- One column for the measured value (`value`)\n",
    "\n",
    "This will make the dataset more flexible for analysis, filtering, and plotting."
   ]
  },
  {
   "cell_type": "code",
   "execution_count": 40,
   "metadata": {},
   "outputs": [
    {
     "data": {
      "text/html": [
       "<div>\n",
       "<style scoped>\n",
       "    .dataframe tbody tr th:only-of-type {\n",
       "        vertical-align: middle;\n",
       "    }\n",
       "\n",
       "    .dataframe tbody tr th {\n",
       "        vertical-align: top;\n",
       "    }\n",
       "\n",
       "    .dataframe thead th {\n",
       "        text-align: right;\n",
       "    }\n",
       "</style>\n",
       "<table border=\"1\" class=\"dataframe\">\n",
       "  <thead>\n",
       "    <tr style=\"text-align: right;\">\n",
       "      <th></th>\n",
       "      <th>date</th>\n",
       "      <th>city</th>\n",
       "      <th>pm25_rome</th>\n",
       "      <th>no2_rome</th>\n",
       "    </tr>\n",
       "  </thead>\n",
       "  <tbody>\n",
       "    <tr>\n",
       "      <th>1032</th>\n",
       "      <td>2024-12-21</td>\n",
       "      <td>Rome</td>\n",
       "      <td>13.5</td>\n",
       "      <td>34.700</td>\n",
       "    </tr>\n",
       "    <tr>\n",
       "      <th>1033</th>\n",
       "      <td>2024-12-22</td>\n",
       "      <td>Rome</td>\n",
       "      <td>5.5</td>\n",
       "      <td>18.700</td>\n",
       "    </tr>\n",
       "    <tr>\n",
       "      <th>1034</th>\n",
       "      <td>2024-12-23</td>\n",
       "      <td>Rome</td>\n",
       "      <td>3.0</td>\n",
       "      <td>15.900</td>\n",
       "    </tr>\n",
       "    <tr>\n",
       "      <th>1035</th>\n",
       "      <td>2024-12-24</td>\n",
       "      <td>Rome</td>\n",
       "      <td>5.0</td>\n",
       "      <td>10.745</td>\n",
       "    </tr>\n",
       "    <tr>\n",
       "      <th>1036</th>\n",
       "      <td>2024-12-25</td>\n",
       "      <td>Rome</td>\n",
       "      <td>7.0</td>\n",
       "      <td>18.000</td>\n",
       "    </tr>\n",
       "    <tr>\n",
       "      <th>1037</th>\n",
       "      <td>2024-12-26</td>\n",
       "      <td>Rome</td>\n",
       "      <td>11.0</td>\n",
       "      <td>46.150</td>\n",
       "    </tr>\n",
       "    <tr>\n",
       "      <th>1038</th>\n",
       "      <td>2024-12-27</td>\n",
       "      <td>Rome</td>\n",
       "      <td>27.0</td>\n",
       "      <td>55.550</td>\n",
       "    </tr>\n",
       "    <tr>\n",
       "      <th>1039</th>\n",
       "      <td>2024-12-28</td>\n",
       "      <td>Rome</td>\n",
       "      <td>19.0</td>\n",
       "      <td>53.700</td>\n",
       "    </tr>\n",
       "    <tr>\n",
       "      <th>1040</th>\n",
       "      <td>2024-12-29</td>\n",
       "      <td>Rome</td>\n",
       "      <td>48.0</td>\n",
       "      <td>59.200</td>\n",
       "    </tr>\n",
       "    <tr>\n",
       "      <th>1041</th>\n",
       "      <td>2024-12-30</td>\n",
       "      <td>Rome</td>\n",
       "      <td>50.0</td>\n",
       "      <td>57.100</td>\n",
       "    </tr>\n",
       "  </tbody>\n",
       "</table>\n",
       "</div>"
      ],
      "text/plain": [
       "            date  city  pm25_rome  no2_rome\n",
       "1032  2024-12-21  Rome       13.5    34.700\n",
       "1033  2024-12-22  Rome        5.5    18.700\n",
       "1034  2024-12-23  Rome        3.0    15.900\n",
       "1035  2024-12-24  Rome        5.0    10.745\n",
       "1036  2024-12-25  Rome        7.0    18.000\n",
       "1037  2024-12-26  Rome       11.0    46.150\n",
       "1038  2024-12-27  Rome       27.0    55.550\n",
       "1039  2024-12-28  Rome       19.0    53.700\n",
       "1040  2024-12-29  Rome       48.0    59.200\n",
       "1041  2024-12-30  Rome       50.0    57.100"
      ]
     },
     "execution_count": 40,
     "metadata": {},
     "output_type": "execute_result"
    }
   ],
   "source": [
    "aq_daily.head(10)\n",
    "aq_daily.tail(10)"
   ]
  },
  {
   "cell_type": "code",
   "execution_count": 41,
   "metadata": {},
   "outputs": [
    {
     "data": {
      "text/html": [
       "<div>\n",
       "<style scoped>\n",
       "    .dataframe tbody tr th:only-of-type {\n",
       "        vertical-align: middle;\n",
       "    }\n",
       "\n",
       "    .dataframe tbody tr th {\n",
       "        vertical-align: top;\n",
       "    }\n",
       "\n",
       "    .dataframe thead th {\n",
       "        text-align: right;\n",
       "    }\n",
       "</style>\n",
       "<table border=\"1\" class=\"dataframe\">\n",
       "  <thead>\n",
       "    <tr style=\"text-align: right;\">\n",
       "      <th></th>\n",
       "      <th>date</th>\n",
       "      <th>city</th>\n",
       "      <th>pm25_rome</th>\n",
       "      <th>no2_rome</th>\n",
       "    </tr>\n",
       "  </thead>\n",
       "  <tbody>\n",
       "    <tr>\n",
       "      <th>count</th>\n",
       "      <td>1042</td>\n",
       "      <td>1042</td>\n",
       "      <td>754.000000</td>\n",
       "      <td>1038.000000</td>\n",
       "    </tr>\n",
       "    <tr>\n",
       "      <th>unique</th>\n",
       "      <td>1042</td>\n",
       "      <td>1</td>\n",
       "      <td>NaN</td>\n",
       "      <td>NaN</td>\n",
       "    </tr>\n",
       "    <tr>\n",
       "      <th>top</th>\n",
       "      <td>2022-01-01</td>\n",
       "      <td>Rome</td>\n",
       "      <td>NaN</td>\n",
       "      <td>NaN</td>\n",
       "    </tr>\n",
       "    <tr>\n",
       "      <th>freq</th>\n",
       "      <td>1</td>\n",
       "      <td>1042</td>\n",
       "      <td>NaN</td>\n",
       "      <td>NaN</td>\n",
       "    </tr>\n",
       "    <tr>\n",
       "      <th>mean</th>\n",
       "      <td>NaN</td>\n",
       "      <td>NaN</td>\n",
       "      <td>13.123342</td>\n",
       "      <td>34.319128</td>\n",
       "    </tr>\n",
       "    <tr>\n",
       "      <th>std</th>\n",
       "      <td>NaN</td>\n",
       "      <td>NaN</td>\n",
       "      <td>7.003073</td>\n",
       "      <td>12.824069</td>\n",
       "    </tr>\n",
       "    <tr>\n",
       "      <th>min</th>\n",
       "      <td>NaN</td>\n",
       "      <td>NaN</td>\n",
       "      <td>1.000000</td>\n",
       "      <td>6.520000</td>\n",
       "    </tr>\n",
       "    <tr>\n",
       "      <th>25%</th>\n",
       "      <td>NaN</td>\n",
       "      <td>NaN</td>\n",
       "      <td>8.500000</td>\n",
       "      <td>24.512500</td>\n",
       "    </tr>\n",
       "    <tr>\n",
       "      <th>50%</th>\n",
       "      <td>NaN</td>\n",
       "      <td>NaN</td>\n",
       "      <td>11.500000</td>\n",
       "      <td>32.100000</td>\n",
       "    </tr>\n",
       "    <tr>\n",
       "      <th>75%</th>\n",
       "      <td>NaN</td>\n",
       "      <td>NaN</td>\n",
       "      <td>16.000000</td>\n",
       "      <td>43.287500</td>\n",
       "    </tr>\n",
       "    <tr>\n",
       "      <th>max</th>\n",
       "      <td>NaN</td>\n",
       "      <td>NaN</td>\n",
       "      <td>50.000000</td>\n",
       "      <td>81.000000</td>\n",
       "    </tr>\n",
       "  </tbody>\n",
       "</table>\n",
       "</div>"
      ],
      "text/plain": [
       "              date  city   pm25_rome     no2_rome\n",
       "count         1042  1042  754.000000  1038.000000\n",
       "unique        1042     1         NaN          NaN\n",
       "top     2022-01-01  Rome         NaN          NaN\n",
       "freq             1  1042         NaN          NaN\n",
       "mean           NaN   NaN   13.123342    34.319128\n",
       "std            NaN   NaN    7.003073    12.824069\n",
       "min            NaN   NaN    1.000000     6.520000\n",
       "25%            NaN   NaN    8.500000    24.512500\n",
       "50%            NaN   NaN   11.500000    32.100000\n",
       "75%            NaN   NaN   16.000000    43.287500\n",
       "max            NaN   NaN   50.000000    81.000000"
      ]
     },
     "execution_count": 41,
     "metadata": {},
     "output_type": "execute_result"
    }
   ],
   "source": [
    "aq_daily.describe(include=\"all\")"
   ]
  },
  {
   "cell_type": "markdown",
   "metadata": {},
   "source": [
    "**Justification**:\n",
    "1. No structural tidiness issues – the dataset is already in a tidy format, with one observation per date and no duplicated dates found."
   ]
  },
  {
   "cell_type": "markdown",
   "metadata": {
    "id": "D6gmLnBttpCh"
   },
   "source": [
    "## 3. Clean data"
   ]
  },
  {
   "cell_type": "markdown",
   "metadata": {},
   "source": [
    "Create copies of dataframes."
   ]
  },
  {
   "cell_type": "code",
   "execution_count": 42,
   "metadata": {},
   "outputs": [],
   "source": [
    "# Create copies of the DataFrames for further processing\n",
    "daily_weather_df = weather_df_daily.copy()\n",
    "\n",
    "daily_aq_df = aq_daily.copy()"
   ]
  },
  {
   "cell_type": "markdown",
   "metadata": {
    "id": "FmFhN52Yyn3l"
   },
   "source": [
    "### **Dataset 1 - Data Quality Issue**\n",
    "1. Date column have to be converted in a time format column (datetime64[ns]) in order to perfom the merge with Dataset 2."
   ]
  },
  {
   "cell_type": "code",
   "execution_count": 43,
   "metadata": {
    "id": "9UejDWrNMW4a"
   },
   "outputs": [
    {
     "name": "stdout",
     "output_type": "stream",
     "text": [
      "<class 'pandas.core.frame.DataFrame'>\n",
      "RangeIndex: 1096 entries, 0 to 1095\n",
      "Data columns (total 5 columns):\n",
      " #   Column         Non-Null Count  Dtype         \n",
      "---  ------         --------------  -----         \n",
      " 0   date           1096 non-null   datetime64[ns]\n",
      " 1   temp_c         1096 non-null   float64       \n",
      " 2   rhum_pct       1096 non-null   float64       \n",
      " 3   wind_speed_ms  1096 non-null   float64       \n",
      " 4   precip_mm      1096 non-null   float64       \n",
      "dtypes: datetime64[ns](1), float64(4)\n",
      "memory usage: 42.9 KB\n"
     ]
    }
   ],
   "source": [
    "# Convert 'date' columns to datetime.date type\n",
    "daily_weather_df['date'] = pd.to_datetime(daily_weather_df['date'], errors='coerce', utc=True).dt.tz_convert(None).dt.normalize()\n",
    "\n",
    "daily_weather_df.info()"
   ]
  },
  {
   "cell_type": "markdown",
   "metadata": {},
   "source": [
    "#### Justification: \n",
    "\n",
    "1. Since date will be used as key in the merge of Dataset 1 with Dataset 2, it must be of same format"
   ]
  },
  {
   "cell_type": "markdown",
   "metadata": {
    "id": "n_DAUbJrymBL"
   },
   "source": [
    "### **Dataset 2 - Data Quality Issue***"
   ]
  },
  {
   "cell_type": "markdown",
   "metadata": {},
   "source": [
    "1. Correct date format from object to timestamp in order to allow merging with Dataset 1.\n",
    "2. Dropping NaNs values from pm25_rome and no2_rome columns"
   ]
  },
  {
   "cell_type": "code",
   "execution_count": 54,
   "metadata": {
    "id": "5Yfb-Yu5MTuE"
   },
   "outputs": [
    {
     "name": "stdout",
     "output_type": "stream",
     "text": [
      "<class 'pandas.core.frame.DataFrame'>\n",
      "Index: 750 entries, 264 to 1041\n",
      "Data columns (total 4 columns):\n",
      " #   Column  Non-Null Count  Dtype         \n",
      "---  ------  --------------  -----         \n",
      " 0   date    750 non-null    datetime64[ns]\n",
      " 1   city    750 non-null    object        \n",
      " 2   pm25    750 non-null    float64       \n",
      " 3   no2     750 non-null    float64       \n",
      "dtypes: datetime64[ns](1), float64(2), object(1)\n",
      "memory usage: 29.3+ KB\n"
     ]
    }
   ],
   "source": [
    "# Convert 'date' columns to datetime.date type\n",
    "daily_aq_df['date'] = pd.to_datetime(daily_aq_df['date'], errors='coerce', utc=True).dt.tz_convert(None).dt.normalize()\n",
    "\n",
    "daily_aq_df.dropna(subset=['pm25', 'no2'], inplace=True)\n",
    "\n",
    "daily_aq_df.info()"
   ]
  },
  {
   "cell_type": "markdown",
   "metadata": {},
   "source": [
    "#### Justification: \n",
    "\n",
    "1. Since date will be used as key in the merge of Dataset 1 with Dataset 2, it must be of same format. \n",
    "2. Dropped NaNs values, there are only few missing values which won't affect the study."
   ]
  },
  {
   "cell_type": "markdown",
   "metadata": {},
   "source": [
    "### Dataset 1 - Data Tidiness Issue\n",
    "N/A"
   ]
  },
  {
   "cell_type": "markdown",
   "metadata": {},
   "source": [
    "### Dataset 2 - Data Tidiness Issue\n"
   ]
  },
  {
   "cell_type": "markdown",
   "metadata": {},
   "source": [
    "1. `pm25_rome` and `no2_rome` are not true variables, but columns derived from a combination of city and parameter.\n",
    "2. In case of another city, new columns (e.g., pm25_milan, no2_milan, etc.) would expand the dataset in width instead of in length."
   ]
  },
  {
   "cell_type": "code",
   "execution_count": 61,
   "metadata": {},
   "outputs": [
    {
     "name": "stdout",
     "output_type": "stream",
     "text": [
      "          date  city  pm25    no2\n",
      "264 2022-09-27  Rome   5.5  23.15\n",
      "265 2022-09-28  Rome   9.5  24.25\n",
      "266 2022-09-29  Rome  10.0  34.00\n"
     ]
    }
   ],
   "source": [
    "# Remove the \"_rome\" suffix from the pollutant names\n",
    "daily_aq_df = daily_aq_df.rename(columns={\"pm25_rome\": \"pm25\", \"no2_rome\": \"no2\"})\n",
    "\n",
    "print(daily_aq_df.head(3))\n"
   ]
  },
  {
   "cell_type": "markdown",
   "metadata": {},
   "source": [
    "Justification: dataset 2 ready to be combined with dataset 1."
   ]
  },
  {
   "cell_type": "markdown",
   "metadata": {},
   "source": [
    "### **Remove unnecessary variables and combine datasets**\n",
    "\n",
    "Depending on the datasets, you can also peform the combination before the cleaning steps."
   ]
  },
  {
   "cell_type": "code",
   "execution_count": 62,
   "metadata": {},
   "outputs": [
    {
     "name": "stdout",
     "output_type": "stream",
     "text": [
      "(750, 7)\n"
     ]
    },
    {
     "data": {
      "text/html": [
       "<div>\n",
       "<style scoped>\n",
       "    .dataframe tbody tr th:only-of-type {\n",
       "        vertical-align: middle;\n",
       "    }\n",
       "\n",
       "    .dataframe tbody tr th {\n",
       "        vertical-align: top;\n",
       "    }\n",
       "\n",
       "    .dataframe thead th {\n",
       "        text-align: right;\n",
       "    }\n",
       "</style>\n",
       "<table border=\"1\" class=\"dataframe\">\n",
       "  <thead>\n",
       "    <tr style=\"text-align: right;\">\n",
       "      <th></th>\n",
       "      <th>date</th>\n",
       "      <th>temp_c</th>\n",
       "      <th>rhum_pct</th>\n",
       "      <th>wind_speed_ms</th>\n",
       "      <th>precip_mm</th>\n",
       "      <th>pm25</th>\n",
       "      <th>no2</th>\n",
       "    </tr>\n",
       "  </thead>\n",
       "  <tbody>\n",
       "    <tr>\n",
       "      <th>0</th>\n",
       "      <td>2022-09-27</td>\n",
       "      <td>19.241667</td>\n",
       "      <td>70.958333</td>\n",
       "      <td>15.662500</td>\n",
       "      <td>0.6</td>\n",
       "      <td>5.5</td>\n",
       "      <td>23.15</td>\n",
       "    </tr>\n",
       "    <tr>\n",
       "      <th>1</th>\n",
       "      <td>2022-09-28</td>\n",
       "      <td>18.825000</td>\n",
       "      <td>74.666667</td>\n",
       "      <td>9.404167</td>\n",
       "      <td>0.3</td>\n",
       "      <td>9.5</td>\n",
       "      <td>24.25</td>\n",
       "    </tr>\n",
       "    <tr>\n",
       "      <th>2</th>\n",
       "      <td>2022-09-29</td>\n",
       "      <td>17.916667</td>\n",
       "      <td>83.791667</td>\n",
       "      <td>13.100000</td>\n",
       "      <td>40.3</td>\n",
       "      <td>10.0</td>\n",
       "      <td>34.00</td>\n",
       "    </tr>\n",
       "    <tr>\n",
       "      <th>3</th>\n",
       "      <td>2022-09-30</td>\n",
       "      <td>19.154167</td>\n",
       "      <td>75.708333</td>\n",
       "      <td>17.300000</td>\n",
       "      <td>23.8</td>\n",
       "      <td>8.5</td>\n",
       "      <td>24.05</td>\n",
       "    </tr>\n",
       "    <tr>\n",
       "      <th>4</th>\n",
       "      <td>2022-10-01</td>\n",
       "      <td>18.358333</td>\n",
       "      <td>76.208333</td>\n",
       "      <td>9.020833</td>\n",
       "      <td>4.7</td>\n",
       "      <td>8.5</td>\n",
       "      <td>23.85</td>\n",
       "    </tr>\n",
       "  </tbody>\n",
       "</table>\n",
       "</div>"
      ],
      "text/plain": [
       "        date     temp_c   rhum_pct  wind_speed_ms  precip_mm  pm25    no2\n",
       "0 2022-09-27  19.241667  70.958333      15.662500        0.6   5.5  23.15\n",
       "1 2022-09-28  18.825000  74.666667       9.404167        0.3   9.5  24.25\n",
       "2 2022-09-29  17.916667  83.791667      13.100000       40.3  10.0  34.00\n",
       "3 2022-09-30  19.154167  75.708333      17.300000       23.8   8.5  24.05\n",
       "4 2022-10-01  18.358333  76.208333       9.020833        4.7   8.5  23.85"
      ]
     },
     "execution_count": 62,
     "metadata": {},
     "output_type": "execute_result"
    }
   ],
   "source": [
    "#Combine the datasets\n",
    "merged = daily_weather_df.merge(daily_aq_df, on=\"date\", how=\"inner\")\n",
    "\n",
    "# Remove the 'city' column from the merged DataFrame\n",
    "merged.drop(columns=[\"city\"], inplace=True)\n",
    "\n",
    "print(merged.shape)\n",
    "assert merged.shape[0]\n",
    "\n",
    "merged.isna().sum()\n",
    "\n",
    "merged.head()"
   ]
  },
  {
   "cell_type": "markdown",
   "metadata": {
    "id": "F42urHuzttjF"
   },
   "source": [
    "## 4. Update your data store\n",
    "Update your local database/data store with the cleaned data, following best practices for storing your cleaned data:\n",
    "\n",
    "- Must maintain different instances / versions of data (raw and cleaned data)\n",
    "- Must name the dataset files informatively\n",
    "- Ensure both the raw and cleaned data is saved to your database/data store"
   ]
  },
  {
   "cell_type": "code",
   "execution_count": 17,
   "metadata": {
    "id": "V3uay7EJUV_L"
   },
   "outputs": [],
   "source": [
    "#FILL IN - saving data\n",
    "merged.to_csv(\"data/eea_air_quality_rome.csv\", index=False, encoding=\"utf-8\")"
   ]
  },
  {
   "cell_type": "markdown",
   "metadata": {
    "id": "cGy_yddGtzhM"
   },
   "source": [
    "## 5. Answer the research question\n",
    "\n",
    "**Research Question**: *\"What is the relationship between weather conditions and air pollution levels in Rome in 2024?\"*\n"
   ]
  },
  {
   "cell_type": "code",
   "execution_count": 47,
   "metadata": {
    "id": "Lkw3rW9kZmOm"
   },
   "outputs": [
    {
     "data": {
      "text/html": [
       "<div>\n",
       "<style scoped>\n",
       "    .dataframe tbody tr th:only-of-type {\n",
       "        vertical-align: middle;\n",
       "    }\n",
       "\n",
       "    .dataframe tbody tr th {\n",
       "        vertical-align: top;\n",
       "    }\n",
       "\n",
       "    .dataframe thead th {\n",
       "        text-align: right;\n",
       "    }\n",
       "</style>\n",
       "<table border=\"1\" class=\"dataframe\">\n",
       "  <thead>\n",
       "    <tr style=\"text-align: right;\">\n",
       "      <th></th>\n",
       "      <th>date</th>\n",
       "      <th>temp_c</th>\n",
       "      <th>rhum_pct</th>\n",
       "      <th>wind_speed_ms</th>\n",
       "      <th>precip_mm</th>\n",
       "      <th>pm25</th>\n",
       "      <th>no2</th>\n",
       "    </tr>\n",
       "  </thead>\n",
       "  <tbody>\n",
       "    <tr>\n",
       "      <th>count</th>\n",
       "      <td>1042</td>\n",
       "      <td>1042.000000</td>\n",
       "      <td>1042.000000</td>\n",
       "      <td>1042.000000</td>\n",
       "      <td>1042.000000</td>\n",
       "      <td>754.000000</td>\n",
       "      <td>1038.000000</td>\n",
       "    </tr>\n",
       "    <tr>\n",
       "      <th>mean</th>\n",
       "      <td>2023-07-10 02:33:23.838771456</td>\n",
       "      <td>17.140719</td>\n",
       "      <td>71.459173</td>\n",
       "      <td>8.736464</td>\n",
       "      <td>2.475240</td>\n",
       "      <td>13.123342</td>\n",
       "      <td>34.319128</td>\n",
       "    </tr>\n",
       "    <tr>\n",
       "      <th>min</th>\n",
       "      <td>2022-01-01 00:00:00</td>\n",
       "      <td>3.475000</td>\n",
       "      <td>36.958333</td>\n",
       "      <td>3.479167</td>\n",
       "      <td>0.000000</td>\n",
       "      <td>1.000000</td>\n",
       "      <td>6.520000</td>\n",
       "    </tr>\n",
       "    <tr>\n",
       "      <th>25%</th>\n",
       "      <td>2022-09-23 06:00:00</td>\n",
       "      <td>10.951042</td>\n",
       "      <td>63.552083</td>\n",
       "      <td>6.212500</td>\n",
       "      <td>0.000000</td>\n",
       "      <td>8.500000</td>\n",
       "      <td>24.512500</td>\n",
       "    </tr>\n",
       "    <tr>\n",
       "      <th>50%</th>\n",
       "      <td>2023-07-28 12:00:00</td>\n",
       "      <td>16.758333</td>\n",
       "      <td>73.895833</td>\n",
       "      <td>7.589583</td>\n",
       "      <td>0.000000</td>\n",
       "      <td>11.500000</td>\n",
       "      <td>32.100000</td>\n",
       "    </tr>\n",
       "    <tr>\n",
       "      <th>75%</th>\n",
       "      <td>2024-04-13 18:00:00</td>\n",
       "      <td>23.488542</td>\n",
       "      <td>80.979167</td>\n",
       "      <td>9.792708</td>\n",
       "      <td>1.300000</td>\n",
       "      <td>16.000000</td>\n",
       "      <td>43.287500</td>\n",
       "    </tr>\n",
       "    <tr>\n",
       "      <th>max</th>\n",
       "      <td>2024-12-30 00:00:00</td>\n",
       "      <td>31.341667</td>\n",
       "      <td>94.541667</td>\n",
       "      <td>25.808333</td>\n",
       "      <td>60.000000</td>\n",
       "      <td>50.000000</td>\n",
       "      <td>81.000000</td>\n",
       "    </tr>\n",
       "    <tr>\n",
       "      <th>std</th>\n",
       "      <td>NaN</td>\n",
       "      <td>7.304285</td>\n",
       "      <td>11.764811</td>\n",
       "      <td>3.836470</td>\n",
       "      <td>6.403553</td>\n",
       "      <td>7.003073</td>\n",
       "      <td>12.824069</td>\n",
       "    </tr>\n",
       "  </tbody>\n",
       "</table>\n",
       "</div>"
      ],
      "text/plain": [
       "                                date       temp_c     rhum_pct  wind_speed_ms  \\\n",
       "count                           1042  1042.000000  1042.000000    1042.000000   \n",
       "mean   2023-07-10 02:33:23.838771456    17.140719    71.459173       8.736464   \n",
       "min              2022-01-01 00:00:00     3.475000    36.958333       3.479167   \n",
       "25%              2022-09-23 06:00:00    10.951042    63.552083       6.212500   \n",
       "50%              2023-07-28 12:00:00    16.758333    73.895833       7.589583   \n",
       "75%              2024-04-13 18:00:00    23.488542    80.979167       9.792708   \n",
       "max              2024-12-30 00:00:00    31.341667    94.541667      25.808333   \n",
       "std                              NaN     7.304285    11.764811       3.836470   \n",
       "\n",
       "         precip_mm        pm25          no2  \n",
       "count  1042.000000  754.000000  1038.000000  \n",
       "mean      2.475240   13.123342    34.319128  \n",
       "min       0.000000    1.000000     6.520000  \n",
       "25%       0.000000    8.500000    24.512500  \n",
       "50%       0.000000   11.500000    32.100000  \n",
       "75%       1.300000   16.000000    43.287500  \n",
       "max      60.000000   50.000000    81.000000  \n",
       "std       6.403553    7.003073    12.824069  "
      ]
     },
     "execution_count": 47,
     "metadata": {},
     "output_type": "execute_result"
    }
   ],
   "source": [
    "# Descriptive statistics of the merged dataset\n",
    "merged.describe()\n"
   ]
  },
  {
   "cell_type": "code",
   "execution_count": 48,
   "metadata": {},
   "outputs": [
    {
     "data": {
      "text/html": [
       "<div>\n",
       "<style scoped>\n",
       "    .dataframe tbody tr th:only-of-type {\n",
       "        vertical-align: middle;\n",
       "    }\n",
       "\n",
       "    .dataframe tbody tr th {\n",
       "        vertical-align: top;\n",
       "    }\n",
       "\n",
       "    .dataframe thead th {\n",
       "        text-align: right;\n",
       "    }\n",
       "</style>\n",
       "<table border=\"1\" class=\"dataframe\">\n",
       "  <thead>\n",
       "    <tr style=\"text-align: right;\">\n",
       "      <th></th>\n",
       "      <th>temp_c</th>\n",
       "      <th>rhum_pct</th>\n",
       "      <th>wind_speed_ms</th>\n",
       "      <th>precip_mm</th>\n",
       "      <th>pm25</th>\n",
       "      <th>no2</th>\n",
       "    </tr>\n",
       "  </thead>\n",
       "  <tbody>\n",
       "    <tr>\n",
       "      <th>temp_c</th>\n",
       "      <td>1.000000</td>\n",
       "      <td>-0.622726</td>\n",
       "      <td>-0.048347</td>\n",
       "      <td>-0.057585</td>\n",
       "      <td>-0.267343</td>\n",
       "      <td>-0.560130</td>\n",
       "    </tr>\n",
       "    <tr>\n",
       "      <th>rhum_pct</th>\n",
       "      <td>-0.622726</td>\n",
       "      <td>1.000000</td>\n",
       "      <td>-0.184252</td>\n",
       "      <td>0.300896</td>\n",
       "      <td>0.093447</td>\n",
       "      <td>0.295509</td>\n",
       "    </tr>\n",
       "    <tr>\n",
       "      <th>wind_speed_ms</th>\n",
       "      <td>-0.048347</td>\n",
       "      <td>-0.184252</td>\n",
       "      <td>1.000000</td>\n",
       "      <td>0.290256</td>\n",
       "      <td>-0.296149</td>\n",
       "      <td>-0.193723</td>\n",
       "    </tr>\n",
       "    <tr>\n",
       "      <th>precip_mm</th>\n",
       "      <td>-0.057585</td>\n",
       "      <td>0.300896</td>\n",
       "      <td>0.290256</td>\n",
       "      <td>1.000000</td>\n",
       "      <td>-0.226296</td>\n",
       "      <td>-0.079132</td>\n",
       "    </tr>\n",
       "    <tr>\n",
       "      <th>pm25</th>\n",
       "      <td>-0.267343</td>\n",
       "      <td>0.093447</td>\n",
       "      <td>-0.296149</td>\n",
       "      <td>-0.226296</td>\n",
       "      <td>1.000000</td>\n",
       "      <td>0.567685</td>\n",
       "    </tr>\n",
       "    <tr>\n",
       "      <th>no2</th>\n",
       "      <td>-0.560130</td>\n",
       "      <td>0.295509</td>\n",
       "      <td>-0.193723</td>\n",
       "      <td>-0.079132</td>\n",
       "      <td>0.567685</td>\n",
       "      <td>1.000000</td>\n",
       "    </tr>\n",
       "  </tbody>\n",
       "</table>\n",
       "</div>"
      ],
      "text/plain": [
       "                 temp_c  rhum_pct  wind_speed_ms  precip_mm      pm25  \\\n",
       "temp_c         1.000000 -0.622726      -0.048347  -0.057585 -0.267343   \n",
       "rhum_pct      -0.622726  1.000000      -0.184252   0.300896  0.093447   \n",
       "wind_speed_ms -0.048347 -0.184252       1.000000   0.290256 -0.296149   \n",
       "precip_mm     -0.057585  0.300896       0.290256   1.000000 -0.226296   \n",
       "pm25          -0.267343  0.093447      -0.296149  -0.226296  1.000000   \n",
       "no2           -0.560130  0.295509      -0.193723  -0.079132  0.567685   \n",
       "\n",
       "                    no2  \n",
       "temp_c        -0.560130  \n",
       "rhum_pct       0.295509  \n",
       "wind_speed_ms -0.193723  \n",
       "precip_mm     -0.079132  \n",
       "pm25           0.567685  \n",
       "no2            1.000000  "
      ]
     },
     "execution_count": 48,
     "metadata": {},
     "output_type": "execute_result"
    }
   ],
   "source": [
    "#Correlation analysis\n",
    "corr = merged[[\"temp_c\", \"rhum_pct\", \"wind_speed_ms\", \"precip_mm\", \"pm25\", \"no2\"]].corr()\n",
    "corr"
   ]
  },
  {
   "cell_type": "markdown",
   "metadata": {},
   "source": [
    "*Answer to research question:* FILL IN"
   ]
  },
  {
   "cell_type": "code",
   "execution_count": 49,
   "metadata": {
    "id": "6fdK_8ZGZm9R"
   },
   "outputs": [
    {
     "data": {
      "image/png": "[encoded data removed]",
      "text/plain": [
       "<Figure size 800x600 with 2 Axes>"
      ]
     },
     "metadata": {},
     "output_type": "display_data"
    },
    {
     "data": {
      "image/png": "[encoded data removed]",
      "text/plain": [
       "<Figure size 800x500 with 1 Axes>"
      ]
     },
     "metadata": {},
     "output_type": "display_data"
    },
    {
     "data": {
      "image/png": "[encoded data removed]",
      "text/plain": [
       "<Figure size 800x500 with 1 Axes>"
      ]
     },
     "metadata": {},
     "output_type": "display_data"
    }
   ],
   "source": [
    "import seaborn as sns\n",
    "import matplotlib.pyplot as plt\n",
    "\n",
    "plt.figure(figsize=(8,6))\n",
    "sns.heatmap(corr, annot=True, cmap=\"coolwarm\", fmt=\".2f\")\n",
    "plt.title(\"Correlation between Weather and Air Quality Variables - Rome 2024\")\n",
    "plt.show()\n",
    "\n",
    "# === Step 4 – Targeted visualizations ===\n",
    "plt.figure(figsize=(8,5))\n",
    "sns.scatterplot(x=\"wind_speed_ms\", y=\"pm25\", data=merged)\n",
    "plt.title(\"PM2.5 vs Wind Speed - Rome 2024\")\n",
    "plt.xlabel(\"Wind speed (m/s)\")\n",
    "plt.ylabel(\"PM2.5 (µg/m³)\")\n",
    "plt.show()\n",
    "\n",
    "plt.figure(figsize=(8,5))\n",
    "sns.scatterplot(x=\"temp_c\", y=\"no2\", data=merged)\n",
    "plt.title(\"NO2 vs Temperature - Rome 2024\")\n",
    "plt.xlabel(\"Temperature (°C)\")\n",
    "plt.ylabel(\"NO2 (µg/m³)\")\n",
    "plt.show()"
   ]
  },
  {
   "cell_type": "markdown",
   "metadata": {},
   "source": [
    "### Findings:\n",
    "- **Wind speed** shows a **negative correlation** with **PM2.5** and **NO₂**: windier days tend to disperse pollutants, lowering their concentrations.\n",
    "- **Precipitation** is generally associated with **lower PM2.5 values** (washout effect: rain removes particulate matter from the atmosphere).\n",
    "- **Temperature** and **relative humidity** show weaker or more variable relationships with pollutants; observed patterns are also influenced by seasonality (e.g., winter heating, traffic, stagnant conditions).\n",
    "\n",
    "### Conclusion:\n",
    "Weather conditions significantly influence air quality in Rome:\n",
    "- **Wind** and **rain** contribute to lowering PM2.5 and NO₂ levels through dispersion and wet deposition.\n",
    "- **Thermal** and **humidity** variables play a less direct role and may interact with seasonal and anthropogenic factors.\n"
   ]
  },
  {
   "cell_type": "markdown",
   "metadata": {
    "id": "0ezWXXZVj-TP"
   },
   "source": [
    "### **5.2:** Reflection\n",
    "These findings are useful for **urban planning** and **public health**, for example, to anticipate pollution peaks during **stable, low-wind days** and to inform citizens about protective behaviors (e.g., limiting outdoor activities during critical episodes)."
   ]
  }
 ],
 "metadata": {
  "colab": {
   "provenance": []
  },
  "kernelspec": {
   "display_name": "Python 3",
   "language": "python",
   "name": "python3"
  },
  "language_info": {
   "codemirror_mode": {
    "name": "ipython",
    "version": 3
   },
   "file_extension": ".py",
   "mimetype": "text/x-python",
   "name": "python",
   "nbconvert_exporter": "python",
   "pygments_lexer": "ipython3",
   "version": "3.13.2"
  }
 },
 "nbformat": 4,
 "nbformat_minor": 1
}
