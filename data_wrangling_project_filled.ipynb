{
 "cells": [
  {
   "cell_type": "markdown",
   "metadata": {
    "id": "GNIwe5N7s0e_"
   },
   "source": [
    "# Real-world Data Wrangling"
   ]
  },
  {
   "cell_type": "markdown",
   "metadata": {
    "id": "_BG63Tpg8ep_"
   },
   "source": [
    "In this project, you will apply the skills you acquired in the course to gather and wrangle real-world data with two datasets of your choice.\n",
    "\n",
    "You will retrieve and extract the data, assess the data programmatically and visually, accross elements of data quality and structure, and implement a cleaning strategy for the data. You will then store the updated data into your selected database/data store, combine the data, and answer a research question with the datasets.\n",
    "\n",
    "Throughout the process, you are expected to:\n",
    "\n",
    "1. Explain your decisions towards methods used for gathering, assessing, cleaning, storing, and answering the research question\n",
    "2. Write code comments so your code is more readable"
   ]
  },
  {
   "cell_type": "markdown",
   "metadata": {
    "id": "lDYDkH-Zs7Nn"
   },
   "source": [
    "## 1. Gather data\n",
    "\n",
    "In this section, you will extract data using two different data gathering methods and combine the data. Use at least two different types of data-gathering methods."
   ]
  },
  {
   "cell_type": "markdown",
   "metadata": {
    "id": "LbN7z7rcuqpO"
   },
   "source": [
    "### **1.1. Problem Statement**\n",
    "\n",
    "Air pollution is one of the most critical environmental issues worldwide, impacting human health and quality of life. \n",
    "In this project, I aim to explore the relationship between weather conditions (temperature, humidity, wind speed) and air pollution levels (PM2.5, NO₂, O₃) in Rome, Italy. \n",
    "The goal is to assess whether certain meteorological factors correlate with variations in pollutant concentrations.\n",
    "\n",
    "To conduct this analysis, I will gather daily weather data from the OpenWeather API and air quality data from the European Environment Agency (EEA) open data portal. \n",
    "These datasets will be merged on date and city for combined analysis.\n"
   ]
  },
  {
   "cell_type": "markdown",
   "metadata": {
    "id": "8AQfBAdUypMm"
   },
   "source": [
    "### **1.2.** Gather at least two datasets using two different data gathering methods\n",
    "\n",
    "List of data gathering methods:\n",
    "\n",
    "- Download data manually\n",
    "- Programmatically downloading files\n",
    "- Gather data by accessing APIs\n",
    "- Gather and extract data from HTML files using BeautifulSoup\n",
    "- Extract data from a SQL database\n",
    "\n",
    "Each dataset must have at least two variables, and have greater than 500 data samples within each dataset.\n",
    "\n",
    "For each dataset, briefly describe why you picked the dataset and the gathering method (2-3 full sentences), including the names and significance of the variables in the dataset. Show your work (e.g., if using an API to download the data, please include a snippet of your code). \n",
    "\n",
    "Load the dataset programmtically into this notebook."
   ]
  },
  {
   "cell_type": "markdown",
   "metadata": {
    "id": "7e6gS0wL1KTu"
   },
   "source": [
    "#### **Dataset 1**\n",
    "\n",
    "- **Type**: JSON (API response)  \n",
    "- **Source**: [Open-Meteo Archive API (ERA5)](https://open-meteo.com)  \n",
    "- **Method**: Programmatically gathered via HTTP request using the `requests` library.  \n",
    "- **Variables**:  \n",
    "  * `date` — date of observation (UTC)  \n",
    "  * `temp_c` — daily average temperature in Celsius  \n",
    "  * `rhum_pct` — daily average relative humidity (%)  \n",
    "  * `wind_speed_ms` — daily average wind speed (m/s)  \n",
    "  * `precip_mm` — daily total precipitation (mm)  \n"
   ]
  },
  {
   "cell_type": "code",
   "execution_count": 30,
   "metadata": {},
   "outputs": [
    {
     "data": {
      "text/html": [
       "<div>\n",
       "<style scoped>\n",
       "    .dataframe tbody tr th:only-of-type {\n",
       "        vertical-align: middle;\n",
       "    }\n",
       "\n",
       "    .dataframe tbody tr th {\n",
       "        vertical-align: top;\n",
       "    }\n",
       "\n",
       "    .dataframe thead th {\n",
       "        text-align: right;\n",
       "    }\n",
       "</style>\n",
       "<table border=\"1\" class=\"dataframe\">\n",
       "  <thead>\n",
       "    <tr style=\"text-align: right;\">\n",
       "      <th></th>\n",
       "      <th>date</th>\n",
       "      <th>temp_c</th>\n",
       "      <th>rhum_pct</th>\n",
       "      <th>wind_speed_ms</th>\n",
       "      <th>precip_mm</th>\n",
       "    </tr>\n",
       "  </thead>\n",
       "  <tbody>\n",
       "    <tr>\n",
       "      <th>0</th>\n",
       "      <td>2024-01-01</td>\n",
       "      <td>11.841667</td>\n",
       "      <td>85.833333</td>\n",
       "      <td>9.845833</td>\n",
       "      <td>3.5</td>\n",
       "    </tr>\n",
       "    <tr>\n",
       "      <th>1</th>\n",
       "      <td>2024-01-02</td>\n",
       "      <td>8.845833</td>\n",
       "      <td>86.458333</td>\n",
       "      <td>7.137500</td>\n",
       "      <td>0.2</td>\n",
       "    </tr>\n",
       "    <tr>\n",
       "      <th>2</th>\n",
       "      <td>2024-01-03</td>\n",
       "      <td>13.070833</td>\n",
       "      <td>82.791667</td>\n",
       "      <td>12.275000</td>\n",
       "      <td>0.1</td>\n",
       "    </tr>\n",
       "    <tr>\n",
       "      <th>3</th>\n",
       "      <td>2024-01-04</td>\n",
       "      <td>12.237500</td>\n",
       "      <td>82.583333</td>\n",
       "      <td>6.391667</td>\n",
       "      <td>0.0</td>\n",
       "    </tr>\n",
       "    <tr>\n",
       "      <th>4</th>\n",
       "      <td>2024-01-05</td>\n",
       "      <td>12.720833</td>\n",
       "      <td>81.500000</td>\n",
       "      <td>14.466667</td>\n",
       "      <td>5.2</td>\n",
       "    </tr>\n",
       "  </tbody>\n",
       "</table>\n",
       "</div>"
      ],
      "text/plain": [
       "         date     temp_c   rhum_pct  wind_speed_ms  precip_mm\n",
       "0  2024-01-01  11.841667  85.833333       9.845833        3.5\n",
       "1  2024-01-02   8.845833  86.458333       7.137500        0.2\n",
       "2  2024-01-03  13.070833  82.791667      12.275000        0.1\n",
       "3  2024-01-04  12.237500  82.583333       6.391667        0.0\n",
       "4  2024-01-05  12.720833  81.500000      14.466667        5.2"
      ]
     },
     "execution_count": 30,
     "metadata": {},
     "output_type": "execute_result"
    }
   ],
   "source": [
    "from modules.openmeteo_weather import build_weather_daily\n",
    "\n",
    "weather_df_daily = build_weather_daily(\n",
    "    lat=41.9028, \n",
    "    lon=12.4964,\n",
    "    start=\"2024-01-01\",\n",
    "    end=\"2024-12-31\",\n",
    "    \n",
    ")\n",
    "\n",
    "\n",
    "weather_df_daily.head()"
   ]
  },
  {
   "cell_type": "markdown",
   "metadata": {
    "id": "hoUjq1tPzz7P"
   },
   "source": [
    "#### **Dataset 2**\n",
    "\n",
    "- **Type**: CSV file generated programmatically from an API query  \n",
    "- **Source**: [OpenAQ API v3](https://api.openaq.org/)  \n",
    "- **Method**: Programmatically gathered via HTTP requests using a custom Python module (`openaq_loader.py`). The script retrieves hourly air quality measurements from OpenAQ and aggregates them into daily averages.  \n",
    "- **Variables**:  \n",
    "  * `date` — date of observation (UTC)  \n",
    "  * `pm25` — daily average PM₂.₅ concentration (µg/m³)  \n",
    "  * `no2` — daily average NO₂ concentration (µg/m³)  \n"
   ]
  },
  {
   "cell_type": "code",
   "execution_count": 31,
   "metadata": {},
   "outputs": [
    {
     "name": "stdout",
     "output_type": "stream",
     "text": [
      "Locations found: 30\n",
      "Parameter 'pm25': 2 sensors -> [21806, 21846]\n",
      "Parameter 'no2': 2 sensors -> [21915, 21941]\n",
      "Fetching days for sensor 21806 (pm25)\n",
      "Fetching days for sensor 21846 (pm25)\n",
      "Fetching days for sensor 21915 (no2)\n",
      "Fetching days for sensor 21941 (no2)\n"
     ]
    },
    {
     "data": {
      "text/html": [
       "<div>\n",
       "<style scoped>\n",
       "    .dataframe tbody tr th:only-of-type {\n",
       "        vertical-align: middle;\n",
       "    }\n",
       "\n",
       "    .dataframe tbody tr th {\n",
       "        vertical-align: top;\n",
       "    }\n",
       "\n",
       "    .dataframe thead th {\n",
       "        text-align: right;\n",
       "    }\n",
       "</style>\n",
       "<table border=\"1\" class=\"dataframe\">\n",
       "  <thead>\n",
       "    <tr style=\"text-align: right;\">\n",
       "      <th></th>\n",
       "      <th>date</th>\n",
       "      <th>city</th>\n",
       "      <th>pm25</th>\n",
       "      <th>no2</th>\n",
       "    </tr>\n",
       "  </thead>\n",
       "  <tbody>\n",
       "    <tr>\n",
       "      <th>0</th>\n",
       "      <td>2023-12-31</td>\n",
       "      <td>Rome</td>\n",
       "      <td>36.5</td>\n",
       "      <td>39.05</td>\n",
       "    </tr>\n",
       "    <tr>\n",
       "      <th>1</th>\n",
       "      <td>2024-01-01</td>\n",
       "      <td>Rome</td>\n",
       "      <td>14.5</td>\n",
       "      <td>39.65</td>\n",
       "    </tr>\n",
       "    <tr>\n",
       "      <th>2</th>\n",
       "      <td>2024-01-02</td>\n",
       "      <td>Rome</td>\n",
       "      <td>8.5</td>\n",
       "      <td>31.40</td>\n",
       "    </tr>\n",
       "  </tbody>\n",
       "</table>\n",
       "</div>"
      ],
      "text/plain": [
       "         date  city  pm25    no2\n",
       "0  2023-12-31  Rome  36.5  39.05\n",
       "1  2024-01-01  Rome  14.5  39.65\n",
       "2  2024-01-02  Rome   8.5  31.40"
      ]
     },
     "execution_count": 31,
     "metadata": {},
     "output_type": "execute_result"
    }
   ],
   "source": [
    "from modules.openaq_loader import OpenAQClient, load_and_aggregate_from_openaq\n",
    "\n",
    "aq_daily = load_and_aggregate_from_openaq(\n",
    "    city=\"Rome\",\n",
    "    parameters=(\"pm25\",\"no2\"),\n",
    "    start_date=\"2024-01-01\",\n",
    "    end_date=\"2024-12-31\",\n",
    "    daily=True,\n",
    "    api_key=\"1e4497f55593ef98625dd6d8686aacfbb7bf4661f96b4cb635595927935bf7f7\",\n",
    "    sensors_per_param=2,\n",
    "    sensor_limit=250,\n",
    "    verbose=True\n",
    ")\n",
    "\n",
    "aq_daily.head(3)"
   ]
  },
  {
   "cell_type": "code",
   "execution_count": 32,
   "metadata": {},
   "outputs": [],
   "source": [
    "import datetime as dt\n",
    "import pandas as pd\n",
    "\n",
    "weather_df_daily['date'] = pd.to_datetime(weather_df_daily['date'], errors='coerce').dt.date\n",
    "aq_daily['date'] = pd.to_datetime(aq_daily['date'], errors='coerce').dt.date\n"
   ]
  },
  {
   "cell_type": "code",
   "execution_count": 33,
   "metadata": {},
   "outputs": [
    {
     "name": "stdout",
     "output_type": "stream",
     "text": [
      "(365, 8)\n"
     ]
    },
    {
     "data": {
      "text/html": [
       "<div>\n",
       "<style scoped>\n",
       "    .dataframe tbody tr th:only-of-type {\n",
       "        vertical-align: middle;\n",
       "    }\n",
       "\n",
       "    .dataframe tbody tr th {\n",
       "        vertical-align: top;\n",
       "    }\n",
       "\n",
       "    .dataframe thead th {\n",
       "        text-align: right;\n",
       "    }\n",
       "</style>\n",
       "<table border=\"1\" class=\"dataframe\">\n",
       "  <thead>\n",
       "    <tr style=\"text-align: right;\">\n",
       "      <th></th>\n",
       "      <th>date</th>\n",
       "      <th>temp_c</th>\n",
       "      <th>rhum_pct</th>\n",
       "      <th>wind_speed_ms</th>\n",
       "      <th>precip_mm</th>\n",
       "      <th>city</th>\n",
       "      <th>pm25</th>\n",
       "      <th>no2</th>\n",
       "    </tr>\n",
       "  </thead>\n",
       "  <tbody>\n",
       "    <tr>\n",
       "      <th>0</th>\n",
       "      <td>2024-01-01</td>\n",
       "      <td>11.841667</td>\n",
       "      <td>85.833333</td>\n",
       "      <td>9.845833</td>\n",
       "      <td>3.5</td>\n",
       "      <td>Rome</td>\n",
       "      <td>14.5</td>\n",
       "      <td>39.65</td>\n",
       "    </tr>\n",
       "    <tr>\n",
       "      <th>1</th>\n",
       "      <td>2024-01-02</td>\n",
       "      <td>8.845833</td>\n",
       "      <td>86.458333</td>\n",
       "      <td>7.137500</td>\n",
       "      <td>0.2</td>\n",
       "      <td>Rome</td>\n",
       "      <td>8.5</td>\n",
       "      <td>31.40</td>\n",
       "    </tr>\n",
       "    <tr>\n",
       "      <th>2</th>\n",
       "      <td>2024-01-03</td>\n",
       "      <td>13.070833</td>\n",
       "      <td>82.791667</td>\n",
       "      <td>12.275000</td>\n",
       "      <td>0.1</td>\n",
       "      <td>Rome</td>\n",
       "      <td>14.5</td>\n",
       "      <td>48.75</td>\n",
       "    </tr>\n",
       "    <tr>\n",
       "      <th>3</th>\n",
       "      <td>2024-01-04</td>\n",
       "      <td>12.237500</td>\n",
       "      <td>82.583333</td>\n",
       "      <td>6.391667</td>\n",
       "      <td>0.0</td>\n",
       "      <td>Rome</td>\n",
       "      <td>15.0</td>\n",
       "      <td>39.65</td>\n",
       "    </tr>\n",
       "    <tr>\n",
       "      <th>4</th>\n",
       "      <td>2024-01-05</td>\n",
       "      <td>12.720833</td>\n",
       "      <td>81.500000</td>\n",
       "      <td>14.466667</td>\n",
       "      <td>5.2</td>\n",
       "      <td>Rome</td>\n",
       "      <td>9.0</td>\n",
       "      <td>32.80</td>\n",
       "    </tr>\n",
       "  </tbody>\n",
       "</table>\n",
       "</div>"
      ],
      "text/plain": [
       "         date     temp_c   rhum_pct  wind_speed_ms  precip_mm  city  pm25  \\\n",
       "0  2024-01-01  11.841667  85.833333       9.845833        3.5  Rome  14.5   \n",
       "1  2024-01-02   8.845833  86.458333       7.137500        0.2  Rome   8.5   \n",
       "2  2024-01-03  13.070833  82.791667      12.275000        0.1  Rome  14.5   \n",
       "3  2024-01-04  12.237500  82.583333       6.391667        0.0  Rome  15.0   \n",
       "4  2024-01-05  12.720833  81.500000      14.466667        5.2  Rome   9.0   \n",
       "\n",
       "     no2  \n",
       "0  39.65  \n",
       "1  31.40  \n",
       "2  48.75  \n",
       "3  39.65  \n",
       "4  32.80  "
      ]
     },
     "execution_count": 33,
     "metadata": {},
     "output_type": "execute_result"
    }
   ],
   "source": [
    "merged = weather_df_daily.merge(aq_daily, on=\"date\", how=\"inner\")\n",
    "print(merged.shape)\n",
    "merged.head()"
   ]
  },
  {
   "cell_type": "markdown",
   "metadata": {},
   "source": [
    "Optional data storing step: You may save your raw dataset files to the local data store before moving to the next step."
   ]
  },
  {
   "cell_type": "code",
   "execution_count": 34,
   "metadata": {},
   "outputs": [
    {
     "data": {
      "text/html": [
       "<div>\n",
       "<style scoped>\n",
       "    .dataframe tbody tr th:only-of-type {\n",
       "        vertical-align: middle;\n",
       "    }\n",
       "\n",
       "    .dataframe tbody tr th {\n",
       "        vertical-align: top;\n",
       "    }\n",
       "\n",
       "    .dataframe thead th {\n",
       "        text-align: right;\n",
       "    }\n",
       "</style>\n",
       "<table border=\"1\" class=\"dataframe\">\n",
       "  <thead>\n",
       "    <tr style=\"text-align: right;\">\n",
       "      <th></th>\n",
       "      <th>date</th>\n",
       "      <th>temp_c</th>\n",
       "      <th>rhum_pct</th>\n",
       "      <th>wind_speed_ms</th>\n",
       "      <th>precip_mm</th>\n",
       "      <th>city</th>\n",
       "      <th>pm25</th>\n",
       "      <th>no2</th>\n",
       "    </tr>\n",
       "  </thead>\n",
       "  <tbody>\n",
       "    <tr>\n",
       "      <th>0</th>\n",
       "      <td>2024-01-01</td>\n",
       "      <td>11.841667</td>\n",
       "      <td>85.833333</td>\n",
       "      <td>9.845833</td>\n",
       "      <td>3.5</td>\n",
       "      <td>Rome</td>\n",
       "      <td>14.5</td>\n",
       "      <td>39.65</td>\n",
       "    </tr>\n",
       "    <tr>\n",
       "      <th>1</th>\n",
       "      <td>2024-01-02</td>\n",
       "      <td>8.845833</td>\n",
       "      <td>86.458333</td>\n",
       "      <td>7.137500</td>\n",
       "      <td>0.2</td>\n",
       "      <td>Rome</td>\n",
       "      <td>8.5</td>\n",
       "      <td>31.40</td>\n",
       "    </tr>\n",
       "    <tr>\n",
       "      <th>2</th>\n",
       "      <td>2024-01-03</td>\n",
       "      <td>13.070833</td>\n",
       "      <td>82.791667</td>\n",
       "      <td>12.275000</td>\n",
       "      <td>0.1</td>\n",
       "      <td>Rome</td>\n",
       "      <td>14.5</td>\n",
       "      <td>48.75</td>\n",
       "    </tr>\n",
       "    <tr>\n",
       "      <th>3</th>\n",
       "      <td>2024-01-04</td>\n",
       "      <td>12.237500</td>\n",
       "      <td>82.583333</td>\n",
       "      <td>6.391667</td>\n",
       "      <td>0.0</td>\n",
       "      <td>Rome</td>\n",
       "      <td>15.0</td>\n",
       "      <td>39.65</td>\n",
       "    </tr>\n",
       "    <tr>\n",
       "      <th>4</th>\n",
       "      <td>2024-01-05</td>\n",
       "      <td>12.720833</td>\n",
       "      <td>81.500000</td>\n",
       "      <td>14.466667</td>\n",
       "      <td>5.2</td>\n",
       "      <td>Rome</td>\n",
       "      <td>9.0</td>\n",
       "      <td>32.80</td>\n",
       "    </tr>\n",
       "  </tbody>\n",
       "</table>\n",
       "</div>"
      ],
      "text/plain": [
       "         date     temp_c   rhum_pct  wind_speed_ms  precip_mm  city  pm25  \\\n",
       "0  2024-01-01  11.841667  85.833333       9.845833        3.5  Rome  14.5   \n",
       "1  2024-01-02   8.845833  86.458333       7.137500        0.2  Rome   8.5   \n",
       "2  2024-01-03  13.070833  82.791667      12.275000        0.1  Rome  14.5   \n",
       "3  2024-01-04  12.237500  82.583333       6.391667        0.0  Rome  15.0   \n",
       "4  2024-01-05  12.720833  81.500000      14.466667        5.2  Rome   9.0   \n",
       "\n",
       "     no2  \n",
       "0  39.65  \n",
       "1  31.40  \n",
       "2  48.75  \n",
       "3  39.65  \n",
       "4  32.80  "
      ]
     },
     "execution_count": 34,
     "metadata": {},
     "output_type": "execute_result"
    }
   ],
   "source": [
    "# Save to CSV\n",
    "merged.to_csv(\"data/eea_air_quality_rome.csv\", index=False)\n",
    "\n",
    "merged.head()"
   ]
  },
  {
   "cell_type": "markdown",
   "metadata": {},
   "source": [
    "#### **Relationship between Dataset 1 and Dataset 2**\n",
    "\n",
    "Both datasets refer to environmental conditions in Rome during 2024.  \n",
    "Dataset 1 contains daily weather variables (temperature, humidity, wind speed, and precipitation) from the Open-Meteo ERA5 reanalysis, while Dataset 2 contains daily air quality measurements (PM₂.₅ and NO₂) from OpenAQ.  \n",
    "They share a common `date` field, which allows the datasets to be merged for exploratory analysis of the relationship between meteorological conditions and air pollution levels.\n"
   ]
  },
  {
   "cell_type": "markdown",
   "metadata": {
    "id": "QwSWIVmotLgV"
   },
   "source": [
    "## 2. Assess data\n",
    "\n",
    "Assess the data according to data quality and tidiness metrics using the report below.\n",
    "\n",
    "List **two** data quality issues and **two** tidiness issues. Assess each data issue visually **and** programmatically, then briefly describe the issue you find.  **Make sure you include justifications for the methods you use for the assessment.**"
   ]
  },
  {
   "cell_type": "markdown",
   "metadata": {
    "id": "adaK2iPNzVu4"
   },
   "source": [
    "### Quality Issue 1:\n",
    "Some PM2.5 values are recorded as `-999`, representing missing or invalid data."
   ]
  },
  {
   "cell_type": "code",
   "execution_count": 35,
   "metadata": {
    "id": "SpW59kh-zl8d"
   },
   "outputs": [
    {
     "name": "stdout",
     "output_type": "stream",
     "text": [
      "<class 'pandas.core.frame.DataFrame'>\n",
      "RangeIndex: 365 entries, 0 to 364\n",
      "Data columns (total 8 columns):\n",
      " #   Column         Non-Null Count  Dtype  \n",
      "---  ------         --------------  -----  \n",
      " 0   date           365 non-null    object \n",
      " 1   temp_c         365 non-null    float64\n",
      " 2   rhum_pct       365 non-null    float64\n",
      " 3   wind_speed_ms  365 non-null    float64\n",
      " 4   precip_mm      365 non-null    float64\n",
      " 5   city           365 non-null    object \n",
      " 6   pm25           359 non-null    float64\n",
      " 7   no2            365 non-null    float64\n",
      "dtypes: float64(6), object(2)\n",
      "memory usage: 22.9+ KB\n"
     ]
    }
   ],
   "source": [
    "#FILL IN - Inspecting the dataframe visually\n",
    "merged.info()"
   ]
  },
  {
   "cell_type": "code",
   "execution_count": 36,
   "metadata": {
    "id": "-qfcocStzsKg"
   },
   "outputs": [],
   "source": [
    "#FILL IN - Inspecting the dataframe programmatically"
   ]
  },
  {
   "cell_type": "markdown",
   "metadata": {},
   "source": [
    "Issue and justification: *FILL IN*"
   ]
  },
  {
   "cell_type": "markdown",
   "metadata": {
    "id": "8Be77N4I1AmE"
   },
   "source": [
    "### Quality Issue 2:\n",
    "Several entries contain `NaN` values for pollutant concentrations and meteorological data."
   ]
  },
  {
   "cell_type": "code",
   "execution_count": 37,
   "metadata": {
    "id": "iMhHyiyLM2I3"
   },
   "outputs": [],
   "source": [
    "#FILL IN - Inspecting the dataframe visually"
   ]
  },
  {
   "cell_type": "code",
   "execution_count": 38,
   "metadata": {
    "id": "bnviRCUI-bb7"
   },
   "outputs": [],
   "source": [
    "#FILL IN - Inspecting the dataframe programmatically"
   ]
  },
  {
   "cell_type": "markdown",
   "metadata": {},
   "source": [
    "Issue and justification: *FILL IN*"
   ]
  },
  {
   "cell_type": "markdown",
   "metadata": {
    "id": "lXhGiYyiwwKN"
   },
   "source": [
    "### Tidiness Issue 1:\n",
    "The datasets are stored in separate tables (weather and air quality), requiring a merge on date and city."
   ]
  },
  {
   "cell_type": "code",
   "execution_count": 39,
   "metadata": {
    "id": "fleC5rORI0Xl"
   },
   "outputs": [],
   "source": [
    "#FILL IN - Inspecting the dataframe visually"
   ]
  },
  {
   "cell_type": "code",
   "execution_count": 40,
   "metadata": {
    "id": "BTuQw7Rbsio4"
   },
   "outputs": [],
   "source": [
    "#FILL IN - Inspecting the dataframe programmatically"
   ]
  },
  {
   "cell_type": "markdown",
   "metadata": {},
   "source": [
    "Issue and justification: *FILL IN*"
   ]
  },
  {
   "cell_type": "markdown",
   "metadata": {
    "id": "4ffMoRGSwzYj"
   },
   "source": [
    "### Tidiness Issue 2:\n",
    "Pollutant types are stored as separate columns, which may need transformation into a long format for analysis."
   ]
  },
  {
   "cell_type": "code",
   "execution_count": 41,
   "metadata": {
    "id": "XUpeoqokw5Qt"
   },
   "outputs": [],
   "source": [
    "#FILL IN - Inspecting the dataframe visually"
   ]
  },
  {
   "cell_type": "code",
   "execution_count": 42,
   "metadata": {
    "id": "c8JK4DoXxtFA"
   },
   "outputs": [],
   "source": [
    "#FILL IN - Inspecting the dataframe programmatically"
   ]
  },
  {
   "cell_type": "markdown",
   "metadata": {},
   "source": [
    "Issue and justification: *FILL IN*"
   ]
  },
  {
   "cell_type": "markdown",
   "metadata": {
    "id": "D6gmLnBttpCh"
   },
   "source": [
    "## 3. Clean data\n",
    "Clean the data to solve the 4 issues corresponding to data quality and tidiness found in the assessing step. **Make sure you include justifications for your cleaning decisions.**\n",
    "\n",
    "After the cleaning for each issue, please use **either** the visually or programatical method to validate the cleaning was succesful.\n",
    "\n",
    "At this stage, you are also expected to remove variables that are unnecessary for your analysis and combine your datasets. Depending on your datasets, you may choose to perform variable combination and elimination before or after the cleaning stage. Your dataset must have **at least** 4 variables after combining the data."
   ]
  },
  {
   "cell_type": "code",
   "execution_count": 43,
   "metadata": {},
   "outputs": [],
   "source": [
    "# FILL IN - Make copies of the datasets to ensure the raw dataframes \n",
    "# are not impacted"
   ]
  },
  {
   "cell_type": "markdown",
   "metadata": {
    "id": "FmFhN52Yyn3l"
   },
   "source": [
    "### **Quality Issue 1: FILL IN**"
   ]
  },
  {
   "cell_type": "code",
   "execution_count": 44,
   "metadata": {
    "id": "9UejDWrNMW4a"
   },
   "outputs": [],
   "source": [
    "# FILL IN - Apply the cleaning strategy"
   ]
  },
  {
   "cell_type": "code",
   "execution_count": 45,
   "metadata": {
    "id": "oUBee-LPytkv"
   },
   "outputs": [],
   "source": [
    "# FILL IN - Validate the cleaning was successful"
   ]
  },
  {
   "cell_type": "markdown",
   "metadata": {},
   "source": [
    "Justification: *FILL IN*"
   ]
  },
  {
   "cell_type": "markdown",
   "metadata": {
    "id": "n_DAUbJrymBL"
   },
   "source": [
    "### **Quality Issue 2: FILL IN**"
   ]
  },
  {
   "cell_type": "code",
   "execution_count": 46,
   "metadata": {
    "id": "5Yfb-Yu5MTuE"
   },
   "outputs": [],
   "source": [
    "#FILL IN - Apply the cleaning strategy"
   ]
  },
  {
   "cell_type": "code",
   "execution_count": 47,
   "metadata": {
    "id": "ionB2sRaMUmY"
   },
   "outputs": [],
   "source": [
    "#FILL IN - Validate the cleaning was successful"
   ]
  },
  {
   "cell_type": "markdown",
   "metadata": {},
   "source": [
    "Justification: *FILL IN*"
   ]
  },
  {
   "cell_type": "markdown",
   "metadata": {
    "id": "bIUrrfSNyOPR"
   },
   "source": [
    "### **Tidiness Issue 1: FILL IN**"
   ]
  },
  {
   "cell_type": "code",
   "execution_count": 48,
   "metadata": {
    "id": "fib0zAm333bn"
   },
   "outputs": [],
   "source": [
    "#FILL IN - Apply the cleaning strategy"
   ]
  },
  {
   "cell_type": "code",
   "execution_count": 49,
   "metadata": {
    "id": "yhrnUGY_Nk8B"
   },
   "outputs": [],
   "source": [
    "#FILL IN - Validate the cleaning was successful"
   ]
  },
  {
   "cell_type": "markdown",
   "metadata": {},
   "source": [
    "Justification: *FILL IN*"
   ]
  },
  {
   "cell_type": "markdown",
   "metadata": {
    "id": "o51Bt8kwyTzk"
   },
   "source": [
    "### **Tidiness Issue 2: FILL IN**"
   ]
  },
  {
   "cell_type": "code",
   "execution_count": 50,
   "metadata": {
    "id": "7zW8O5yx4Y9O"
   },
   "outputs": [],
   "source": [
    "#FILL IN - Apply the cleaning strategy"
   ]
  },
  {
   "cell_type": "code",
   "execution_count": 51,
   "metadata": {
    "id": "q6I_Sr7lxXi5"
   },
   "outputs": [],
   "source": [
    "#FILL IN - Validate the cleaning was successful"
   ]
  },
  {
   "cell_type": "markdown",
   "metadata": {},
   "source": [
    "Justification: *FILL IN*"
   ]
  },
  {
   "cell_type": "markdown",
   "metadata": {},
   "source": [
    "### **Remove unnecessary variables and combine datasets**\n",
    "\n",
    "Depending on the datasets, you can also peform the combination before the cleaning steps."
   ]
  },
  {
   "cell_type": "code",
   "execution_count": 52,
   "metadata": {},
   "outputs": [],
   "source": [
    "#FILL IN - Remove unnecessary variables and combine datasets"
   ]
  },
  {
   "cell_type": "markdown",
   "metadata": {
    "id": "F42urHuzttjF"
   },
   "source": [
    "## 4. Update your data store\n",
    "Update your local database/data store with the cleaned data, following best practices for storing your cleaned data:\n",
    "\n",
    "- Must maintain different instances / versions of data (raw and cleaned data)\n",
    "- Must name the dataset files informatively\n",
    "- Ensure both the raw and cleaned data is saved to your database/data store"
   ]
  },
  {
   "cell_type": "code",
   "execution_count": 53,
   "metadata": {
    "id": "V3uay7EJUV_L"
   },
   "outputs": [],
   "source": [
    "#FILL IN - saving data"
   ]
  },
  {
   "cell_type": "markdown",
   "metadata": {
    "id": "cGy_yddGtzhM"
   },
   "source": [
    "## 5. Answer the research question\n",
    "\n",
    "### **5.1:** Define and answer the research question \n",
    "Going back to the problem statement in step 1, use the cleaned data to answer the question you raised. Produce **at least** two visualizations using the cleaned data and explain how they help you answer the question."
   ]
  },
  {
   "cell_type": "markdown",
   "metadata": {
    "id": "gjedE4s4ZkEd"
   },
   "source": [
    "*Research question:* FILL IN from answer to Step 1"
   ]
  },
  {
   "cell_type": "code",
   "execution_count": 54,
   "metadata": {
    "id": "Lkw3rW9kZmOm"
   },
   "outputs": [],
   "source": [
    "#Visual 1 - FILL IN"
   ]
  },
  {
   "cell_type": "markdown",
   "metadata": {},
   "source": [
    "*Answer to research question:* FILL IN"
   ]
  },
  {
   "cell_type": "code",
   "execution_count": 55,
   "metadata": {
    "id": "6fdK_8ZGZm9R"
   },
   "outputs": [],
   "source": [
    "#Visual 2 - FILL IN"
   ]
  },
  {
   "cell_type": "markdown",
   "metadata": {
    "id": "K5RgvMGUZoHn"
   },
   "source": [
    "*Answer to research question:* FILL IN"
   ]
  },
  {
   "cell_type": "markdown",
   "metadata": {
    "id": "0ezWXXZVj-TP"
   },
   "source": [
    "### **5.2:** Reflection\n",
    "In 2-4 sentences, if you had more time to complete the project, what actions would you take? For example, which data quality and structural issues would you look into further, and what research questions would you further explore?"
   ]
  },
  {
   "cell_type": "markdown",
   "metadata": {
    "id": "XB3RBDG5kFe1"
   },
   "source": [
    "*Answer:* FILL IN"
   ]
  }
 ],
 "metadata": {
  "colab": {
   "provenance": []
  },
  "kernelspec": {
   "display_name": "Python 3",
   "language": "python",
   "name": "python3"
  },
  "language_info": {
   "codemirror_mode": {
    "name": "ipython",
    "version": 3
   },
   "file_extension": ".py",
   "mimetype": "text/x-python",
   "name": "python",
   "nbconvert_exporter": "python",
   "pygments_lexer": "ipython3",
   "version": "3.13.2"
  }
 },
 "nbformat": 4,
 "nbformat_minor": 1
}
