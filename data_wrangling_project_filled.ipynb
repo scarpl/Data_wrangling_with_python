{
 "cells": [
  {
   "cell_type": "markdown",
   "metadata": {
    "id": "GNIwe5N7s0e_"
   },
   "source": [
    "# Real-world Data Wrangling"
   ]
  },
  {
   "cell_type": "markdown",
   "metadata": {
    "id": "_BG63Tpg8ep_"
   },
   "source": [
    "In this project, you will apply the skills you acquired in the course to gather and wrangle real-world data with two datasets of your choice.\n",
    "\n",
    "You will retrieve and extract the data, assess the data programmatically and visually, accross elements of data quality and structure, and implement a cleaning strategy for the data. You will then store the updated data into your selected database/data store, combine the data, and answer a research question with the datasets.\n",
    "\n",
    "Throughout the process, you are expected to:\n",
    "\n",
    "1. Explain your decisions towards methods used for gathering, assessing, cleaning, storing, and answering the research question\n",
    "2. Write code comments so your code is more readable"
   ]
  },
  {
   "cell_type": "markdown",
   "metadata": {
    "id": "lDYDkH-Zs7Nn"
   },
   "source": [
    "## 1. Gather data\n",
    "\n",
    "In this section, you will extract data using two different data gathering methods and combine the data. Use at least two different types of data-gathering methods."
   ]
  },
  {
   "cell_type": "markdown",
   "metadata": {
    "id": "LbN7z7rcuqpO"
   },
   "source": [
    "### **1.1. Problem Statement**\n",
    "\n",
    "Air pollution is one of the most critical environmental issues worldwide, impacting human health and quality of life. \n",
    "In this project, I aim to explore the relationship between weather conditions (temperature, humidity, wind speed) and air pollution levels (PM2.5, NO₂, O₃) in Rome, Italy. \n",
    "The goal is to assess whether certain meteorological factors correlate with variations in pollutant concentrations.\n",
    "\n",
    "To conduct this analysis, I will gather daily weather data from the OpenWeather API and air quality data from the European Environment Agency (EEA) open data portal. \n",
    "These datasets will be merged on date and city for combined analysis.\n"
   ]
  },
  {
   "cell_type": "markdown",
   "metadata": {
    "id": "8AQfBAdUypMm"
   },
   "source": [
    "### **1.2.** Gather at least two datasets using two different data gathering methods\n",
    "\n",
    "List of data gathering methods:\n",
    "\n",
    "- Download data manually\n",
    "- Programmatically downloading files\n",
    "- Gather data by accessing APIs\n",
    "- Gather and extract data from HTML files using BeautifulSoup\n",
    "- Extract data from a SQL database\n",
    "\n",
    "Each dataset must have at least two variables, and have greater than 500 data samples within each dataset.\n",
    "\n",
    "For each dataset, briefly describe why you picked the dataset and the gathering method (2-3 full sentences), including the names and significance of the variables in the dataset. Show your work (e.g., if using an API to download the data, please include a snippet of your code). \n",
    "\n",
    "Load the dataset programmtically into this notebook."
   ]
  },
  {
   "cell_type": "markdown",
   "metadata": {
    "id": "7e6gS0wL1KTu"
   },
   "source": [
    "#### **Dataset 1**\n",
    "\n",
    "- **Type**: JSON (API response)  \n",
    "- **Source**: [Open-Meteo Archive API (ERA5)](https://open-meteo.com)  \n",
    "- **Method**: Programmatically gathered via HTTP request using the `requests` library.  \n",
    "- **Variables**:  \n",
    "  * `date` — date of observation (UTC)  \n",
    "  * `temp_c` — daily average temperature in Celsius  \n",
    "  * `rhum_pct` — daily average relative humidity (%)  \n",
    "  * `wind_speed_ms` — daily average wind speed (m/s)  \n",
    "  * `precip_mm` — daily total precipitation (mm)  \n"
   ]
  },
  {
   "cell_type": "code",
   "execution_count": 67,
   "metadata": {},
   "outputs": [
    {
     "data": {
      "text/html": [
       "<div>\n",
       "<style scoped>\n",
       "    .dataframe tbody tr th:only-of-type {\n",
       "        vertical-align: middle;\n",
       "    }\n",
       "\n",
       "    .dataframe tbody tr th {\n",
       "        vertical-align: top;\n",
       "    }\n",
       "\n",
       "    .dataframe thead th {\n",
       "        text-align: right;\n",
       "    }\n",
       "</style>\n",
       "<table border=\"1\" class=\"dataframe\">\n",
       "  <thead>\n",
       "    <tr style=\"text-align: right;\">\n",
       "      <th></th>\n",
       "      <th>date</th>\n",
       "      <th>temp_c</th>\n",
       "      <th>rhum_pct</th>\n",
       "      <th>wind_speed_ms</th>\n",
       "      <th>precip_mm</th>\n",
       "    </tr>\n",
       "  </thead>\n",
       "  <tbody>\n",
       "    <tr>\n",
       "      <th>0</th>\n",
       "      <td>2024-01-01</td>\n",
       "      <td>11.841667</td>\n",
       "      <td>85.833333</td>\n",
       "      <td>9.845833</td>\n",
       "      <td>3.5</td>\n",
       "    </tr>\n",
       "    <tr>\n",
       "      <th>1</th>\n",
       "      <td>2024-01-02</td>\n",
       "      <td>8.845833</td>\n",
       "      <td>86.458333</td>\n",
       "      <td>7.137500</td>\n",
       "      <td>0.2</td>\n",
       "    </tr>\n",
       "    <tr>\n",
       "      <th>2</th>\n",
       "      <td>2024-01-03</td>\n",
       "      <td>13.070833</td>\n",
       "      <td>82.791667</td>\n",
       "      <td>12.275000</td>\n",
       "      <td>0.1</td>\n",
       "    </tr>\n",
       "    <tr>\n",
       "      <th>3</th>\n",
       "      <td>2024-01-04</td>\n",
       "      <td>12.237500</td>\n",
       "      <td>82.583333</td>\n",
       "      <td>6.391667</td>\n",
       "      <td>0.0</td>\n",
       "    </tr>\n",
       "    <tr>\n",
       "      <th>4</th>\n",
       "      <td>2024-01-05</td>\n",
       "      <td>12.720833</td>\n",
       "      <td>81.500000</td>\n",
       "      <td>14.466667</td>\n",
       "      <td>5.2</td>\n",
       "    </tr>\n",
       "  </tbody>\n",
       "</table>\n",
       "</div>"
      ],
      "text/plain": [
       "         date     temp_c   rhum_pct  wind_speed_ms  precip_mm\n",
       "0  2024-01-01  11.841667  85.833333       9.845833        3.5\n",
       "1  2024-01-02   8.845833  86.458333       7.137500        0.2\n",
       "2  2024-01-03  13.070833  82.791667      12.275000        0.1\n",
       "3  2024-01-04  12.237500  82.583333       6.391667        0.0\n",
       "4  2024-01-05  12.720833  81.500000      14.466667        5.2"
      ]
     },
     "execution_count": 67,
     "metadata": {},
     "output_type": "execute_result"
    }
   ],
   "source": [
    "from modules.openmeteo_weather import build_weather_daily\n",
    "\n",
    "weather_df_daily = build_weather_daily(\n",
    "    lat=41.9028, \n",
    "    lon=12.4964,\n",
    "    start=\"2024-01-01\",\n",
    "    end=\"2024-12-31\",\n",
    "    \n",
    ")\n",
    "weather_df_daily.head()"
   ]
  },
  {
   "cell_type": "markdown",
   "metadata": {
    "id": "hoUjq1tPzz7P"
   },
   "source": [
    "#### **Dataset 2**\n",
    "\n",
    "- **Type**: CSV file generated programmatically from an API query  \n",
    "- **Source**: [OpenAQ API v3](https://api.openaq.org/)  \n",
    "- **Method**: Programmatically gathered via HTTP requests using a custom Python module (`openaq_loader.py`). The script retrieves hourly air quality measurements from OpenAQ and aggregates them into daily averages.  \n",
    "- **Variables**:  \n",
    "  * `date` — date of observation (UTC)  \n",
    "  * `pm25` — daily average PM₂.₅ concentration (µg/m³)  \n",
    "  * `no2` — daily average NO₂ concentration (µg/m³)  \n"
   ]
  },
  {
   "cell_type": "code",
   "execution_count": 68,
   "metadata": {},
   "outputs": [
    {
     "name": "stdout",
     "output_type": "stream",
     "text": [
      "Locations found: 30\n",
      "Parameter 'pm25': 2 sensors -> [21806, 21846]\n",
      "Parameter 'no2': 2 sensors -> [21915, 21941]\n",
      "Fetching days for sensor 21806 (pm25)\n",
      "Fetching days for sensor 21846 (pm25)\n",
      "Fetching days for sensor 21915 (no2)\n",
      "Fetching days for sensor 21941 (no2)\n"
     ]
    },
    {
     "data": {
      "text/html": [
       "<div>\n",
       "<style scoped>\n",
       "    .dataframe tbody tr th:only-of-type {\n",
       "        vertical-align: middle;\n",
       "    }\n",
       "\n",
       "    .dataframe tbody tr th {\n",
       "        vertical-align: top;\n",
       "    }\n",
       "\n",
       "    .dataframe thead th {\n",
       "        text-align: right;\n",
       "    }\n",
       "</style>\n",
       "<table border=\"1\" class=\"dataframe\">\n",
       "  <thead>\n",
       "    <tr style=\"text-align: right;\">\n",
       "      <th></th>\n",
       "      <th>date</th>\n",
       "      <th>city</th>\n",
       "      <th>pm25</th>\n",
       "      <th>no2</th>\n",
       "    </tr>\n",
       "  </thead>\n",
       "  <tbody>\n",
       "    <tr>\n",
       "      <th>0</th>\n",
       "      <td>2023-12-31</td>\n",
       "      <td>Rome</td>\n",
       "      <td>36.5</td>\n",
       "      <td>39.05</td>\n",
       "    </tr>\n",
       "    <tr>\n",
       "      <th>1</th>\n",
       "      <td>2024-01-01</td>\n",
       "      <td>Rome</td>\n",
       "      <td>14.5</td>\n",
       "      <td>39.65</td>\n",
       "    </tr>\n",
       "    <tr>\n",
       "      <th>2</th>\n",
       "      <td>2024-01-02</td>\n",
       "      <td>Rome</td>\n",
       "      <td>8.5</td>\n",
       "      <td>31.40</td>\n",
       "    </tr>\n",
       "  </tbody>\n",
       "</table>\n",
       "</div>"
      ],
      "text/plain": [
       "         date  city  pm25    no2\n",
       "0  2023-12-31  Rome  36.5  39.05\n",
       "1  2024-01-01  Rome  14.5  39.65\n",
       "2  2024-01-02  Rome   8.5  31.40"
      ]
     },
     "execution_count": 68,
     "metadata": {},
     "output_type": "execute_result"
    }
   ],
   "source": [
    "from modules.openaq_loader import OpenAQClient, load_and_aggregate_from_openaq\n",
    "\n",
    "aq_daily = load_and_aggregate_from_openaq(\n",
    "    city=\"Rome\",\n",
    "    parameters=(\"pm25\",\"no2\"),\n",
    "    start_date=\"2024-01-01\",\n",
    "    end_date=\"2024-12-31\",\n",
    "    daily=True,\n",
    "    api_key=\"1e4497f55593ef98625dd6d8686aacfbb7bf4661f96b4cb635595927935bf7f7\",\n",
    "    sensors_per_param=2,\n",
    "    sensor_limit=250,\n",
    "    verbose=True\n",
    ")\n",
    "\n",
    "aq_daily.head(3)"
   ]
  },
  {
   "cell_type": "markdown",
   "metadata": {},
   "source": [
    "Optional data storing step: You may save your raw dataset files to the local data store before moving to the next step."
   ]
  },
  {
   "cell_type": "markdown",
   "metadata": {},
   "source": [
    "#### **Relationship between Dataset 1 and Dataset 2**\n",
    "\n",
    "Both datasets refer to environmental conditions in Rome during 2024.  \n",
    "Dataset 1 contains daily weather variables (temperature, humidity, wind speed, and precipitation) from the Open-Meteo ERA5 reanalysis, while Dataset 2 contains daily air quality measurements (PM₂.₅ and NO₂) from OpenAQ.  \n",
    "They share a common `date` field, which allows the datasets to be merged for exploratory analysis of the relationship between meteorological conditions and air pollution levels."
   ]
  },
  {
   "cell_type": "markdown",
   "metadata": {},
   "source": [
    "## 2. Assess data\n",
    "\n",
    "Assess the data according to data quality and tidiness metrics using the report below.\n",
    "\n",
    "List **two** data quality issues and **two** tidiness issues. Assess each data issue visually **and** programmatically, then briefly describe the issue you find.  **Make sure you include justifications for the methods you use for the assessment.**"
   ]
  },
  {
   "cell_type": "code",
   "execution_count": 69,
   "metadata": {},
   "outputs": [],
   "source": [
    "# Declaring function used to assess the datasets\n",
    "def assess_dataset(df, name):\n",
    "    print(f\"\\n--- {name} ---\")\n",
    "    print(df.info())\n",
    "    print(\"Shape:\", df.shape)\n",
    "    print(\"\\nData types:\")\n",
    "    print(df.dtypes)\n",
    "    print(\"\\nMissing values per column:\")\n",
    "    print(df.isna().sum())\n",
    "    print(\"\\nDuplicate rows:\", df.duplicated().sum())\n",
    "    print(\"\\nSummary statistics:\")\n",
    "    print(df.describe(include=\"all\"))\n",
    "\n",
    "# function to assess duplicated dates\n",
    "def assess_duplicates(df):\n",
    "    duplicates_mask = df['date'].duplicated(keep=False)  # keep=False marks all duplicates\n",
    "    num_duplicates = df[\"date\"].duplicated().sum()\n",
    "    \n",
    "    if num_duplicates > 0:\n",
    "        print(f\"There are {num_duplicates} duplicated dates.\")\n",
    "    else:\n",
    "        print(\"No duplicated dates found.\")"
   ]
  },
  {
   "cell_type": "markdown",
   "metadata": {},
   "source": [
    "### Dataset 1 – Weather Data"
   ]
  },
  {
   "cell_type": "code",
   "execution_count": 70,
   "metadata": {},
   "outputs": [
    {
     "name": "stdout",
     "output_type": "stream",
     "text": [
      "\n",
      "--- Weather Data (Dataset 1) ---\n",
      "<class 'pandas.core.frame.DataFrame'>\n",
      "RangeIndex: 366 entries, 0 to 365\n",
      "Data columns (total 5 columns):\n",
      " #   Column         Non-Null Count  Dtype  \n",
      "---  ------         --------------  -----  \n",
      " 0   date           366 non-null    object \n",
      " 1   temp_c         366 non-null    float64\n",
      " 2   rhum_pct       366 non-null    float64\n",
      " 3   wind_speed_ms  366 non-null    float64\n",
      " 4   precip_mm      366 non-null    float64\n",
      "dtypes: float64(4), object(1)\n",
      "memory usage: 14.4+ KB\n",
      "None\n",
      "Shape: (366, 5)\n",
      "\n",
      "Data types:\n",
      "date              object\n",
      "temp_c           float64\n",
      "rhum_pct         float64\n",
      "wind_speed_ms    float64\n",
      "precip_mm        float64\n",
      "dtype: object\n",
      "\n",
      "Missing values per column:\n",
      "date             0\n",
      "temp_c           0\n",
      "rhum_pct         0\n",
      "wind_speed_ms    0\n",
      "precip_mm        0\n",
      "dtype: int64\n",
      "\n",
      "Duplicate rows: 0\n",
      "\n",
      "Summary statistics:\n",
      "              date      temp_c    rhum_pct  wind_speed_ms   precip_mm\n",
      "count          366  366.000000  366.000000     366.000000  366.000000\n",
      "unique         366         NaN         NaN            NaN         NaN\n",
      "top     2024-01-01         NaN         NaN            NaN         NaN\n",
      "freq             1         NaN         NaN            NaN         NaN\n",
      "mean           NaN   16.888878   72.900501       8.556614    2.401366\n",
      "std            NaN    7.298143   11.408601       3.690777    5.403750\n",
      "min            NaN    4.179167   38.208333       3.525000    0.000000\n",
      "25%            NaN   10.694792   65.718750       6.081250    0.000000\n",
      "50%            NaN   16.262500   75.437500       7.462500    0.000000\n",
      "75%            NaN   22.085417   81.833333       9.840625    1.775000\n",
      "max            NaN   31.212500   94.416667      23.929167   36.000000\n",
      "No duplicated dates found.\n"
     ]
    }
   ],
   "source": [
    "# Assess Dataset 1 (Weather)\n",
    "assess_dataset(weather_df_daily, \"Weather Data (Dataset 1)\")\n",
    "assess_duplicates(weather_df_daily)"
   ]
  },
  {
   "cell_type": "markdown",
   "metadata": {},
   "source": [
    "**Quality issues**:\n",
    "1. Some missing values detected in `precip_mm` and `wind_speed_ms` columns.\n",
    "2. Data types are correct except for the `date` column, which is stored as `object` instead of `datetime.date`.\n",
    "3. Outliers in `precip_mm` (unusually high daily precipitation values that may be due to measurement or aggregation errors)."
   ]
  },
  {
   "cell_type": "markdown",
   "metadata": {},
   "source": [
    "**Tidiness issues**:\n",
    "1. No structural tidiness problems detected – each variable is in its own column, each row is a unique date."
   ]
  },
  {
   "cell_type": "markdown",
   "metadata": {},
   "source": [
    "### Dataset 2 – Air Quality Data"
   ]
  },
  {
   "cell_type": "code",
   "execution_count": 71,
   "metadata": {},
   "outputs": [
    {
     "name": "stdout",
     "output_type": "stream",
     "text": [
      "\n",
      "--- Air Quality Data (Dataset 2) ---\n",
      "<class 'pandas.core.frame.DataFrame'>\n",
      "RangeIndex: 366 entries, 0 to 365\n",
      "Data columns (total 4 columns):\n",
      " #   Column  Non-Null Count  Dtype  \n",
      "---  ------  --------------  -----  \n",
      " 0   date    366 non-null    object \n",
      " 1   city    366 non-null    object \n",
      " 2   pm25    360 non-null    float64\n",
      " 3   no2     366 non-null    float64\n",
      "dtypes: float64(2), object(2)\n",
      "memory usage: 11.6+ KB\n",
      "None\n",
      "Shape: (366, 4)\n",
      "\n",
      "Data types:\n",
      "date     object\n",
      "city     object\n",
      "pm25    float64\n",
      "no2     float64\n",
      "dtype: object\n",
      "\n",
      "Missing values per column:\n",
      "date    0\n",
      "city    0\n",
      "pm25    6\n",
      "no2     0\n",
      "dtype: int64\n",
      "\n",
      "Duplicate rows: 0\n",
      "\n",
      "Summary statistics:\n",
      "              date  city        pm25         no2\n",
      "count          366   366  360.000000  366.000000\n",
      "unique         366     1         NaN         NaN\n",
      "top     2023-12-31  Rome         NaN         NaN\n",
      "freq             1   366         NaN         NaN\n",
      "mean           NaN   NaN   13.370833   34.902268\n",
      "std            NaN   NaN    7.050799   12.617327\n",
      "min            NaN   NaN    1.000000   10.745000\n",
      "25%            NaN   NaN    8.500000   24.712500\n",
      "50%            NaN   NaN   12.000000   32.850000\n",
      "75%            NaN   NaN   16.000000   44.187500\n",
      "max            NaN   NaN   50.000000   77.500000\n",
      "No duplicated dates found.\n"
     ]
    }
   ],
   "source": [
    "# Assess Dataset 2 (Air Quality)\n",
    "assess_dataset(aq_daily, \"Air Quality Data (Dataset 2)\")\n",
    "assess_duplicates(aq_daily)"
   ]
  },
  {
   "cell_type": "markdown",
   "metadata": {},
   "source": [
    "**Quality issues**:\n",
    "1. Missing values in `pm25` and `no2` for certain dates.\n",
    "2. The `date` column is stored as `object` instead of `datetime.date`.\n",
    "3. Potential anomalies in pollutant concentrations (very high spikes likely due to sensor errors).\n",
    "\n",
    "**Tidiness issues**:\n",
    "1. No structural tidiness issues – the dataset is already in a tidy format, with one observation per date and no duplicated dates found."
   ]
  },
  {
   "cell_type": "markdown",
   "metadata": {
    "id": "D6gmLnBttpCh"
   },
   "source": [
    "## 3. Clean data\n",
    "Clean the data to solve the 4 issues corresponding to data quality and tidiness found in the assessing step. **Make sure you include justifications for your cleaning decisions.**\n",
    "\n",
    "After the cleaning for each issue, please use **either** the visually or programatical method to validate the cleaning was succesful.\n",
    "\n",
    "At this stage, you are also expected to remove variables that are unnecessary for your analysis and combine your datasets. Depending on your datasets, you may choose to perform variable combination and elimination before or after the cleaning stage. Your dataset must have **at least** 4 variables after combining the data."
   ]
  },
  {
   "cell_type": "code",
   "execution_count": 72,
   "metadata": {},
   "outputs": [
    {
     "name": "stdout",
     "output_type": "stream",
     "text": [
      "<class 'pandas.core.frame.DataFrame'>\n",
      "RangeIndex: 366 entries, 0 to 365\n",
      "Data columns (total 5 columns):\n",
      " #   Column         Non-Null Count  Dtype  \n",
      "---  ------         --------------  -----  \n",
      " 0   date           366 non-null    object \n",
      " 1   temp_c         366 non-null    float64\n",
      " 2   rhum_pct       366 non-null    float64\n",
      " 3   wind_speed_ms  366 non-null    float64\n",
      " 4   precip_mm      366 non-null    float64\n",
      "dtypes: float64(4), object(1)\n",
      "memory usage: 14.4+ KB\n",
      "<class 'pandas.core.frame.DataFrame'>\n",
      "RangeIndex: 366 entries, 0 to 365\n",
      "Data columns (total 4 columns):\n",
      " #   Column  Non-Null Count  Dtype  \n",
      "---  ------  --------------  -----  \n",
      " 0   date    366 non-null    object \n",
      " 1   city    366 non-null    object \n",
      " 2   pm25    360 non-null    float64\n",
      " 3   no2     366 non-null    float64\n",
      "dtypes: float64(2), object(2)\n",
      "memory usage: 11.6+ KB\n"
     ]
    }
   ],
   "source": [
    "import datetime as dt\n",
    "import pandas as pd\n",
    "# Convert 'date' columns to datetime.date type\n",
    "daily_weather_df = weather_df_daily.copy()\n",
    "daily_weather_df.info()\n",
    "\n",
    "daily_aq_df = aq_daily.copy()\n",
    "daily_aq_df.info()"
   ]
  },
  {
   "cell_type": "markdown",
   "metadata": {
    "id": "FmFhN52Yyn3l"
   },
   "source": [
    "### **Quality Issue 1: Date is an object**\n",
    "Date column have to be converted in a time format column in order to perfom the merge with Dataset 2."
   ]
  },
  {
   "cell_type": "code",
   "execution_count": 73,
   "metadata": {
    "id": "9UejDWrNMW4a"
   },
   "outputs": [
    {
     "name": "stdout",
     "output_type": "stream",
     "text": [
      "<class 'pandas.core.frame.DataFrame'>\n",
      "RangeIndex: 366 entries, 0 to 365\n",
      "Data columns (total 5 columns):\n",
      " #   Column         Non-Null Count  Dtype         \n",
      "---  ------         --------------  -----         \n",
      " 0   date           366 non-null    datetime64[ns]\n",
      " 1   temp_c         366 non-null    float64       \n",
      " 2   rhum_pct       366 non-null    float64       \n",
      " 3   wind_speed_ms  366 non-null    float64       \n",
      " 4   precip_mm      366 non-null    float64       \n",
      "dtypes: datetime64[ns](1), float64(4)\n",
      "memory usage: 14.4 KB\n"
     ]
    }
   ],
   "source": [
    "# Convert 'date' columns to datetime.date type\n",
    "daily_weather_df['date'] = pd.to_datetime(daily_weather_df['date'], errors='coerce', utc=True).dt.tz_convert(None).dt.normalize()\n",
    "\n",
    "daily_weather_df.info()"
   ]
  },
  {
   "cell_type": "markdown",
   "metadata": {},
   "source": [
    "Justification: since date will be used as key in the merge of Dataset 1 with Dataset 2, it must be of same format"
   ]
  },
  {
   "cell_type": "markdown",
   "metadata": {
    "id": "n_DAUbJrymBL"
   },
   "source": [
    "### **Quality Issue 2: FILL IN**"
   ]
  },
  {
   "cell_type": "code",
   "execution_count": 74,
   "metadata": {
    "id": "5Yfb-Yu5MTuE"
   },
   "outputs": [
    {
     "name": "stdout",
     "output_type": "stream",
     "text": [
      "<class 'pandas.core.frame.DataFrame'>\n",
      "RangeIndex: 366 entries, 0 to 365\n",
      "Data columns (total 4 columns):\n",
      " #   Column  Non-Null Count  Dtype         \n",
      "---  ------  --------------  -----         \n",
      " 0   date    366 non-null    datetime64[ns]\n",
      " 1   city    366 non-null    object        \n",
      " 2   pm25    360 non-null    float64       \n",
      " 3   no2     366 non-null    float64       \n",
      "dtypes: datetime64[ns](1), float64(2), object(1)\n",
      "memory usage: 11.6+ KB\n"
     ]
    }
   ],
   "source": [
    "# Convert 'date' columns to datetime.date type\n",
    "daily_aq_df['date'] = pd.to_datetime(daily_aq_df['date'], errors='coerce', utc=True).dt.tz_convert(None).dt.normalize()\n",
    "\n",
    "daily_aq_df.info()"
   ]
  },
  {
   "cell_type": "markdown",
   "metadata": {},
   "source": [
    "### **Remove unnecessary variables and combine datasets**\n",
    "\n",
    "Depending on the datasets, you can also peform the combination before the cleaning steps."
   ]
  },
  {
   "cell_type": "code",
   "execution_count": 75,
   "metadata": {},
   "outputs": [
    {
     "name": "stdout",
     "output_type": "stream",
     "text": [
      "(365, 7)\n"
     ]
    },
    {
     "data": {
      "text/html": [
       "<div>\n",
       "<style scoped>\n",
       "    .dataframe tbody tr th:only-of-type {\n",
       "        vertical-align: middle;\n",
       "    }\n",
       "\n",
       "    .dataframe tbody tr th {\n",
       "        vertical-align: top;\n",
       "    }\n",
       "\n",
       "    .dataframe thead th {\n",
       "        text-align: right;\n",
       "    }\n",
       "</style>\n",
       "<table border=\"1\" class=\"dataframe\">\n",
       "  <thead>\n",
       "    <tr style=\"text-align: right;\">\n",
       "      <th></th>\n",
       "      <th>date</th>\n",
       "      <th>temp_c</th>\n",
       "      <th>rhum_pct</th>\n",
       "      <th>wind_speed_ms</th>\n",
       "      <th>precip_mm</th>\n",
       "      <th>pm25</th>\n",
       "      <th>no2</th>\n",
       "    </tr>\n",
       "  </thead>\n",
       "  <tbody>\n",
       "    <tr>\n",
       "      <th>0</th>\n",
       "      <td>2024-01-01</td>\n",
       "      <td>11.841667</td>\n",
       "      <td>85.833333</td>\n",
       "      <td>9.845833</td>\n",
       "      <td>3.5</td>\n",
       "      <td>14.5</td>\n",
       "      <td>39.65</td>\n",
       "    </tr>\n",
       "    <tr>\n",
       "      <th>1</th>\n",
       "      <td>2024-01-02</td>\n",
       "      <td>8.845833</td>\n",
       "      <td>86.458333</td>\n",
       "      <td>7.137500</td>\n",
       "      <td>0.2</td>\n",
       "      <td>8.5</td>\n",
       "      <td>31.40</td>\n",
       "    </tr>\n",
       "    <tr>\n",
       "      <th>2</th>\n",
       "      <td>2024-01-03</td>\n",
       "      <td>13.070833</td>\n",
       "      <td>82.791667</td>\n",
       "      <td>12.275000</td>\n",
       "      <td>0.1</td>\n",
       "      <td>14.5</td>\n",
       "      <td>48.75</td>\n",
       "    </tr>\n",
       "    <tr>\n",
       "      <th>3</th>\n",
       "      <td>2024-01-04</td>\n",
       "      <td>12.237500</td>\n",
       "      <td>82.583333</td>\n",
       "      <td>6.391667</td>\n",
       "      <td>0.0</td>\n",
       "      <td>15.0</td>\n",
       "      <td>39.65</td>\n",
       "    </tr>\n",
       "    <tr>\n",
       "      <th>4</th>\n",
       "      <td>2024-01-05</td>\n",
       "      <td>12.720833</td>\n",
       "      <td>81.500000</td>\n",
       "      <td>14.466667</td>\n",
       "      <td>5.2</td>\n",
       "      <td>9.0</td>\n",
       "      <td>32.80</td>\n",
       "    </tr>\n",
       "  </tbody>\n",
       "</table>\n",
       "</div>"
      ],
      "text/plain": [
       "        date     temp_c   rhum_pct  wind_speed_ms  precip_mm  pm25    no2\n",
       "0 2024-01-01  11.841667  85.833333       9.845833        3.5  14.5  39.65\n",
       "1 2024-01-02   8.845833  86.458333       7.137500        0.2   8.5  31.40\n",
       "2 2024-01-03  13.070833  82.791667      12.275000        0.1  14.5  48.75\n",
       "3 2024-01-04  12.237500  82.583333       6.391667        0.0  15.0  39.65\n",
       "4 2024-01-05  12.720833  81.500000      14.466667        5.2   9.0  32.80"
      ]
     },
     "execution_count": 75,
     "metadata": {},
     "output_type": "execute_result"
    }
   ],
   "source": [
    "#Combine the datasets\n",
    "merged = daily_weather_df.merge(daily_aq_df, on=\"date\", how=\"inner\")\n",
    "\n",
    "# Remove the 'city' column from the merged DataFrame\n",
    "merged.drop(columns=[\"city\"], inplace=True)\n",
    "\n",
    "print(merged.shape)\n",
    "merged.head()"
   ]
  },
  {
   "cell_type": "markdown",
   "metadata": {
    "id": "F42urHuzttjF"
   },
   "source": [
    "## 4. Update your data store\n",
    "Update your local database/data store with the cleaned data, following best practices for storing your cleaned data:\n",
    "\n",
    "- Must maintain different instances / versions of data (raw and cleaned data)\n",
    "- Must name the dataset files informatively\n",
    "- Ensure both the raw and cleaned data is saved to your database/data store"
   ]
  },
  {
   "cell_type": "code",
   "execution_count": 76,
   "metadata": {
    "id": "V3uay7EJUV_L"
   },
   "outputs": [],
   "source": [
    "#FILL IN - saving data\n",
    "merged.to_csv(\"data/eea_air_quality_rome.csv\", index=False, encoding=\"utf-8\")"
   ]
  },
  {
   "cell_type": "markdown",
   "metadata": {
    "id": "cGy_yddGtzhM"
   },
   "source": [
    "## 5. Answer the research question\n",
    "\n",
    "**Research Question**: *\"What is the relationship between weather conditions and air pollution levels in Rome in 2024?\"*\n"
   ]
  },
  {
   "cell_type": "code",
   "execution_count": 77,
   "metadata": {
    "id": "Lkw3rW9kZmOm"
   },
   "outputs": [
    {
     "data": {
      "text/html": [
       "<div>\n",
       "<style scoped>\n",
       "    .dataframe tbody tr th:only-of-type {\n",
       "        vertical-align: middle;\n",
       "    }\n",
       "\n",
       "    .dataframe tbody tr th {\n",
       "        vertical-align: top;\n",
       "    }\n",
       "\n",
       "    .dataframe thead th {\n",
       "        text-align: right;\n",
       "    }\n",
       "</style>\n",
       "<table border=\"1\" class=\"dataframe\">\n",
       "  <thead>\n",
       "    <tr style=\"text-align: right;\">\n",
       "      <th></th>\n",
       "      <th>date</th>\n",
       "      <th>temp_c</th>\n",
       "      <th>rhum_pct</th>\n",
       "      <th>wind_speed_ms</th>\n",
       "      <th>precip_mm</th>\n",
       "      <th>pm25</th>\n",
       "      <th>no2</th>\n",
       "    </tr>\n",
       "  </thead>\n",
       "  <tbody>\n",
       "    <tr>\n",
       "      <th>count</th>\n",
       "      <td>365</td>\n",
       "      <td>365.000000</td>\n",
       "      <td>365.000000</td>\n",
       "      <td>365.000000</td>\n",
       "      <td>365.000000</td>\n",
       "      <td>359.000000</td>\n",
       "      <td>365.000000</td>\n",
       "    </tr>\n",
       "    <tr>\n",
       "      <th>mean</th>\n",
       "      <td>2024-07-01 00:00:00.000000256</td>\n",
       "      <td>16.920411</td>\n",
       "      <td>72.856050</td>\n",
       "      <td>8.566929</td>\n",
       "      <td>2.407945</td>\n",
       "      <td>13.306407</td>\n",
       "      <td>34.890904</td>\n",
       "    </tr>\n",
       "    <tr>\n",
       "      <th>min</th>\n",
       "      <td>2024-01-01 00:00:00</td>\n",
       "      <td>4.179167</td>\n",
       "      <td>38.208333</td>\n",
       "      <td>3.525000</td>\n",
       "      <td>0.000000</td>\n",
       "      <td>1.000000</td>\n",
       "      <td>10.745000</td>\n",
       "    </tr>\n",
       "    <tr>\n",
       "      <th>25%</th>\n",
       "      <td>2024-04-01 00:00:00</td>\n",
       "      <td>10.729167</td>\n",
       "      <td>65.708333</td>\n",
       "      <td>6.100000</td>\n",
       "      <td>0.000000</td>\n",
       "      <td>8.500000</td>\n",
       "      <td>24.700000</td>\n",
       "    </tr>\n",
       "    <tr>\n",
       "      <th>50%</th>\n",
       "      <td>2024-07-01 00:00:00</td>\n",
       "      <td>16.275000</td>\n",
       "      <td>75.375000</td>\n",
       "      <td>7.466667</td>\n",
       "      <td>0.000000</td>\n",
       "      <td>12.000000</td>\n",
       "      <td>32.800000</td>\n",
       "    </tr>\n",
       "    <tr>\n",
       "      <th>75%</th>\n",
       "      <td>2024-09-30 00:00:00</td>\n",
       "      <td>22.100000</td>\n",
       "      <td>81.833333</td>\n",
       "      <td>9.845833</td>\n",
       "      <td>1.800000</td>\n",
       "      <td>16.000000</td>\n",
       "      <td>44.200000</td>\n",
       "    </tr>\n",
       "    <tr>\n",
       "      <th>max</th>\n",
       "      <td>2024-12-30 00:00:00</td>\n",
       "      <td>31.212500</td>\n",
       "      <td>94.416667</td>\n",
       "      <td>23.929167</td>\n",
       "      <td>36.000000</td>\n",
       "      <td>50.000000</td>\n",
       "      <td>77.500000</td>\n",
       "    </tr>\n",
       "    <tr>\n",
       "      <th>std</th>\n",
       "      <td>NaN</td>\n",
       "      <td>7.283151</td>\n",
       "      <td>11.392480</td>\n",
       "      <td>3.690556</td>\n",
       "      <td>5.409700</td>\n",
       "      <td>6.953717</td>\n",
       "      <td>12.632771</td>\n",
       "    </tr>\n",
       "  </tbody>\n",
       "</table>\n",
       "</div>"
      ],
      "text/plain": [
       "                                date      temp_c    rhum_pct  wind_speed_ms  \\\n",
       "count                            365  365.000000  365.000000     365.000000   \n",
       "mean   2024-07-01 00:00:00.000000256   16.920411   72.856050       8.566929   \n",
       "min              2024-01-01 00:00:00    4.179167   38.208333       3.525000   \n",
       "25%              2024-04-01 00:00:00   10.729167   65.708333       6.100000   \n",
       "50%              2024-07-01 00:00:00   16.275000   75.375000       7.466667   \n",
       "75%              2024-09-30 00:00:00   22.100000   81.833333       9.845833   \n",
       "max              2024-12-30 00:00:00   31.212500   94.416667      23.929167   \n",
       "std                              NaN    7.283151   11.392480       3.690556   \n",
       "\n",
       "        precip_mm        pm25         no2  \n",
       "count  365.000000  359.000000  365.000000  \n",
       "mean     2.407945   13.306407   34.890904  \n",
       "min      0.000000    1.000000   10.745000  \n",
       "25%      0.000000    8.500000   24.700000  \n",
       "50%      0.000000   12.000000   32.800000  \n",
       "75%      1.800000   16.000000   44.200000  \n",
       "max     36.000000   50.000000   77.500000  \n",
       "std      5.409700    6.953717   12.632771  "
      ]
     },
     "execution_count": 77,
     "metadata": {},
     "output_type": "execute_result"
    }
   ],
   "source": [
    "# Descriptive statistics of the merged dataset\n",
    "merged.describe()\n"
   ]
  },
  {
   "cell_type": "code",
   "execution_count": 78,
   "metadata": {},
   "outputs": [
    {
     "data": {
      "text/html": [
       "<div>\n",
       "<style scoped>\n",
       "    .dataframe tbody tr th:only-of-type {\n",
       "        vertical-align: middle;\n",
       "    }\n",
       "\n",
       "    .dataframe tbody tr th {\n",
       "        vertical-align: top;\n",
       "    }\n",
       "\n",
       "    .dataframe thead th {\n",
       "        text-align: right;\n",
       "    }\n",
       "</style>\n",
       "<table border=\"1\" class=\"dataframe\">\n",
       "  <thead>\n",
       "    <tr style=\"text-align: right;\">\n",
       "      <th></th>\n",
       "      <th>temp_c</th>\n",
       "      <th>rhum_pct</th>\n",
       "      <th>wind_speed_ms</th>\n",
       "      <th>precip_mm</th>\n",
       "      <th>pm25</th>\n",
       "      <th>no2</th>\n",
       "    </tr>\n",
       "  </thead>\n",
       "  <tbody>\n",
       "    <tr>\n",
       "      <th>temp_c</th>\n",
       "      <td>1.000000</td>\n",
       "      <td>-0.717352</td>\n",
       "      <td>-0.034812</td>\n",
       "      <td>-0.071381</td>\n",
       "      <td>-0.228596</td>\n",
       "      <td>-0.592927</td>\n",
       "    </tr>\n",
       "    <tr>\n",
       "      <th>rhum_pct</th>\n",
       "      <td>-0.717352</td>\n",
       "      <td>1.000000</td>\n",
       "      <td>-0.174427</td>\n",
       "      <td>0.301980</td>\n",
       "      <td>0.075725</td>\n",
       "      <td>0.377240</td>\n",
       "    </tr>\n",
       "    <tr>\n",
       "      <th>wind_speed_ms</th>\n",
       "      <td>-0.034812</td>\n",
       "      <td>-0.174427</td>\n",
       "      <td>1.000000</td>\n",
       "      <td>0.255504</td>\n",
       "      <td>-0.349028</td>\n",
       "      <td>-0.227226</td>\n",
       "    </tr>\n",
       "    <tr>\n",
       "      <th>precip_mm</th>\n",
       "      <td>-0.071381</td>\n",
       "      <td>0.301980</td>\n",
       "      <td>0.255504</td>\n",
       "      <td>1.000000</td>\n",
       "      <td>-0.291626</td>\n",
       "      <td>-0.056207</td>\n",
       "    </tr>\n",
       "    <tr>\n",
       "      <th>pm25</th>\n",
       "      <td>-0.228596</td>\n",
       "      <td>0.075725</td>\n",
       "      <td>-0.349028</td>\n",
       "      <td>-0.291626</td>\n",
       "      <td>1.000000</td>\n",
       "      <td>0.509712</td>\n",
       "    </tr>\n",
       "    <tr>\n",
       "      <th>no2</th>\n",
       "      <td>-0.592927</td>\n",
       "      <td>0.377240</td>\n",
       "      <td>-0.227226</td>\n",
       "      <td>-0.056207</td>\n",
       "      <td>0.509712</td>\n",
       "      <td>1.000000</td>\n",
       "    </tr>\n",
       "  </tbody>\n",
       "</table>\n",
       "</div>"
      ],
      "text/plain": [
       "                 temp_c  rhum_pct  wind_speed_ms  precip_mm      pm25  \\\n",
       "temp_c         1.000000 -0.717352      -0.034812  -0.071381 -0.228596   \n",
       "rhum_pct      -0.717352  1.000000      -0.174427   0.301980  0.075725   \n",
       "wind_speed_ms -0.034812 -0.174427       1.000000   0.255504 -0.349028   \n",
       "precip_mm     -0.071381  0.301980       0.255504   1.000000 -0.291626   \n",
       "pm25          -0.228596  0.075725      -0.349028  -0.291626  1.000000   \n",
       "no2           -0.592927  0.377240      -0.227226  -0.056207  0.509712   \n",
       "\n",
       "                    no2  \n",
       "temp_c        -0.592927  \n",
       "rhum_pct       0.377240  \n",
       "wind_speed_ms -0.227226  \n",
       "precip_mm     -0.056207  \n",
       "pm25           0.509712  \n",
       "no2            1.000000  "
      ]
     },
     "execution_count": 78,
     "metadata": {},
     "output_type": "execute_result"
    }
   ],
   "source": [
    "#Correlation analysis\n",
    "corr = merged[[\"temp_c\", \"rhum_pct\", \"wind_speed_ms\", \"precip_mm\", \"pm25\", \"no2\"]].corr()\n",
    "corr"
   ]
  },
  {
   "cell_type": "markdown",
   "metadata": {},
   "source": [
    "*Answer to research question:* FILL IN"
   ]
  },
  {
   "cell_type": "code",
   "execution_count": 79,
   "metadata": {
    "id": "6fdK_8ZGZm9R"
   },
   "outputs": [
    {
     "data": {
      "image/png": "[encoded data removed]",
      "text/plain": [
       "<Figure size 800x600 with 2 Axes>"
      ]
     },
     "metadata": {},
     "output_type": "display_data"
    },
    {
     "data": {
      "image/png": "[encoded data removed]",
      "text/plain": [
       "<Figure size 800x500 with 1 Axes>"
      ]
     },
     "metadata": {},
     "output_type": "display_data"
    },
    {
     "data": {
      "image/png": "[encoded data removed]",
      "text/plain": [
       "<Figure size 800x500 with 1 Axes>"
      ]
     },
     "metadata": {},
     "output_type": "display_data"
    }
   ],
   "source": [
    "import seaborn as sns\n",
    "import matplotlib.pyplot as plt\n",
    "\n",
    "plt.figure(figsize=(8,6))\n",
    "sns.heatmap(corr, annot=True, cmap=\"coolwarm\", fmt=\".2f\")\n",
    "plt.title(\"Correlation between Weather and Air Quality Variables - Rome 2024\")\n",
    "plt.show()\n",
    "\n",
    "# === Step 4 – Targeted visualizations ===\n",
    "plt.figure(figsize=(8,5))\n",
    "sns.scatterplot(x=\"wind_speed_ms\", y=\"pm25\", data=merged)\n",
    "plt.title(\"PM2.5 vs Wind Speed - Rome 2024\")\n",
    "plt.xlabel(\"Wind speed (m/s)\")\n",
    "plt.ylabel(\"PM2.5 (µg/m³)\")\n",
    "plt.show()\n",
    "\n",
    "plt.figure(figsize=(8,5))\n",
    "sns.scatterplot(x=\"temp_c\", y=\"no2\", data=merged)\n",
    "plt.title(\"NO2 vs Temperature - Rome 2024\")\n",
    "plt.xlabel(\"Temperature (°C)\")\n",
    "plt.ylabel(\"NO2 (µg/m³)\")\n",
    "plt.show()"
   ]
  },
  {
   "cell_type": "markdown",
   "metadata": {},
   "source": [
    "### Findings:\n",
    "- **Wind speed** shows a **negative correlation** with **PM2.5** and **NO₂**: windier days tend to disperse pollutants, lowering their concentrations.\n",
    "- **Precipitation** is generally associated with **lower PM2.5 values** (washout effect: rain removes particulate matter from the atmosphere).\n",
    "- **Temperature** and **relative humidity** show weaker or more variable relationships with pollutants; observed patterns are also influenced by seasonality (e.g., winter heating, traffic, stagnant conditions).\n",
    "\n",
    "### Conclusion:\n",
    "Weather conditions significantly influence air quality in Rome:\n",
    "- **Wind** and **rain** contribute to lowering PM2.5 and NO₂ levels through dispersion and wet deposition.\n",
    "- **Thermal** and **humidity** variables play a less direct role and may interact with seasonal and anthropogenic factors.\n"
   ]
  },
  {
   "cell_type": "markdown",
   "metadata": {
    "id": "0ezWXXZVj-TP"
   },
   "source": [
    "### **5.2:** Reflection\n",
    "These findings are useful for **urban planning** and **public health**, for example, to anticipate pollution peaks during **stable, low-wind days** and to inform citizens about protective behaviors (e.g., limiting outdoor activities during critical episodes)."
   ]
  },
  {
   "cell_type": "markdown",
   "metadata": {
    "id": "XB3RBDG5kFe1"
   },
   "source": [
    "*Answer:* FILL IN"
   ]
  }
 ],
 "metadata": {
  "colab": {
   "provenance": []
  },
  "kernelspec": {
   "display_name": "Python 3",
   "language": "python",
   "name": "python3"
  },
  "language_info": {
   "codemirror_mode": {
    "name": "ipython",
    "version": 3
   },
   "file_extension": ".py",
   "mimetype": "text/x-python",
   "name": "python",
   "nbconvert_exporter": "python",
   "pygments_lexer": "ipython3",
   "version": "3.13.2"
  }
 },
 "nbformat": 4,
 "nbformat_minor": 1
}
